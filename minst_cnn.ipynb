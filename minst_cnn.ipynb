{
 "cells": [
  {
   "cell_type": "markdown",
   "metadata": {},
   "source": [
    "# Labeling MNIST data with a convolutional neural network"
   ]
  },
  {
   "cell_type": "code",
   "execution_count": 12,
   "metadata": {},
   "outputs": [],
   "source": [
    "import pandas as pd\n",
    "import numpy as np\n",
    "import matplotlib.pyplot as plt\n",
    "import tensorflow as tf"
   ]
  },
  {
   "cell_type": "code",
   "execution_count": 75,
   "metadata": {},
   "outputs": [],
   "source": [
    "mnist = tf.keras.datasets.mnist"
   ]
  },
  {
   "cell_type": "code",
   "execution_count": 13,
   "metadata": {},
   "outputs": [
    {
     "name": "stdout",
     "output_type": "stream",
     "text": [
      "TensorFlow version: 2.10.0\n",
      "Keras version: 2.10.0\n"
     ]
    }
   ],
   "source": [
    "print('TensorFlow version:',tf.__version__)\n",
    "print('Keras version:',tf.keras.__version__)"
   ]
  },
  {
   "cell_type": "code",
   "execution_count": 14,
   "metadata": {},
   "outputs": [
    {
     "name": "stdout",
     "output_type": "stream",
     "text": [
      "c:\\Users\\Alessandro\\anaconda3\\envs\\tfgpu\\lib\\site-packages\\tensorflow\\__init__.py\n",
      "c:\\Users\\Alessandro\\anaconda3\\envs\\tfgpu\\lib\\site-packages\\keras\\api\\_v2\\keras\\__init__.py\n"
     ]
    }
   ],
   "source": [
    "print(tf.__file__)\n",
    "print(tf.keras.__file__)"
   ]
  },
  {
   "cell_type": "code",
   "execution_count": 15,
   "metadata": {},
   "outputs": [
    {
     "data": {
      "text/html": [
       "<div>\n",
       "<style scoped>\n",
       "    .dataframe tbody tr th:only-of-type {\n",
       "        vertical-align: middle;\n",
       "    }\n",
       "\n",
       "    .dataframe tbody tr th {\n",
       "        vertical-align: top;\n",
       "    }\n",
       "\n",
       "    .dataframe thead th {\n",
       "        text-align: right;\n",
       "    }\n",
       "</style>\n",
       "<table border=\"1\" class=\"dataframe\">\n",
       "  <thead>\n",
       "    <tr style=\"text-align: right;\">\n",
       "      <th></th>\n",
       "      <th>label</th>\n",
       "      <th>pixel0</th>\n",
       "      <th>pixel1</th>\n",
       "      <th>pixel2</th>\n",
       "      <th>pixel3</th>\n",
       "      <th>pixel4</th>\n",
       "      <th>pixel5</th>\n",
       "      <th>pixel6</th>\n",
       "      <th>pixel7</th>\n",
       "      <th>pixel8</th>\n",
       "      <th>...</th>\n",
       "      <th>pixel774</th>\n",
       "      <th>pixel775</th>\n",
       "      <th>pixel776</th>\n",
       "      <th>pixel777</th>\n",
       "      <th>pixel778</th>\n",
       "      <th>pixel779</th>\n",
       "      <th>pixel780</th>\n",
       "      <th>pixel781</th>\n",
       "      <th>pixel782</th>\n",
       "      <th>pixel783</th>\n",
       "    </tr>\n",
       "  </thead>\n",
       "  <tbody>\n",
       "    <tr>\n",
       "      <th>0</th>\n",
       "      <td>1</td>\n",
       "      <td>0</td>\n",
       "      <td>0</td>\n",
       "      <td>0</td>\n",
       "      <td>0</td>\n",
       "      <td>0</td>\n",
       "      <td>0</td>\n",
       "      <td>0</td>\n",
       "      <td>0</td>\n",
       "      <td>0</td>\n",
       "      <td>...</td>\n",
       "      <td>0</td>\n",
       "      <td>0</td>\n",
       "      <td>0</td>\n",
       "      <td>0</td>\n",
       "      <td>0</td>\n",
       "      <td>0</td>\n",
       "      <td>0</td>\n",
       "      <td>0</td>\n",
       "      <td>0</td>\n",
       "      <td>0</td>\n",
       "    </tr>\n",
       "    <tr>\n",
       "      <th>1</th>\n",
       "      <td>0</td>\n",
       "      <td>0</td>\n",
       "      <td>0</td>\n",
       "      <td>0</td>\n",
       "      <td>0</td>\n",
       "      <td>0</td>\n",
       "      <td>0</td>\n",
       "      <td>0</td>\n",
       "      <td>0</td>\n",
       "      <td>0</td>\n",
       "      <td>...</td>\n",
       "      <td>0</td>\n",
       "      <td>0</td>\n",
       "      <td>0</td>\n",
       "      <td>0</td>\n",
       "      <td>0</td>\n",
       "      <td>0</td>\n",
       "      <td>0</td>\n",
       "      <td>0</td>\n",
       "      <td>0</td>\n",
       "      <td>0</td>\n",
       "    </tr>\n",
       "    <tr>\n",
       "      <th>2</th>\n",
       "      <td>1</td>\n",
       "      <td>0</td>\n",
       "      <td>0</td>\n",
       "      <td>0</td>\n",
       "      <td>0</td>\n",
       "      <td>0</td>\n",
       "      <td>0</td>\n",
       "      <td>0</td>\n",
       "      <td>0</td>\n",
       "      <td>0</td>\n",
       "      <td>...</td>\n",
       "      <td>0</td>\n",
       "      <td>0</td>\n",
       "      <td>0</td>\n",
       "      <td>0</td>\n",
       "      <td>0</td>\n",
       "      <td>0</td>\n",
       "      <td>0</td>\n",
       "      <td>0</td>\n",
       "      <td>0</td>\n",
       "      <td>0</td>\n",
       "    </tr>\n",
       "    <tr>\n",
       "      <th>3</th>\n",
       "      <td>4</td>\n",
       "      <td>0</td>\n",
       "      <td>0</td>\n",
       "      <td>0</td>\n",
       "      <td>0</td>\n",
       "      <td>0</td>\n",
       "      <td>0</td>\n",
       "      <td>0</td>\n",
       "      <td>0</td>\n",
       "      <td>0</td>\n",
       "      <td>...</td>\n",
       "      <td>0</td>\n",
       "      <td>0</td>\n",
       "      <td>0</td>\n",
       "      <td>0</td>\n",
       "      <td>0</td>\n",
       "      <td>0</td>\n",
       "      <td>0</td>\n",
       "      <td>0</td>\n",
       "      <td>0</td>\n",
       "      <td>0</td>\n",
       "    </tr>\n",
       "    <tr>\n",
       "      <th>4</th>\n",
       "      <td>0</td>\n",
       "      <td>0</td>\n",
       "      <td>0</td>\n",
       "      <td>0</td>\n",
       "      <td>0</td>\n",
       "      <td>0</td>\n",
       "      <td>0</td>\n",
       "      <td>0</td>\n",
       "      <td>0</td>\n",
       "      <td>0</td>\n",
       "      <td>...</td>\n",
       "      <td>0</td>\n",
       "      <td>0</td>\n",
       "      <td>0</td>\n",
       "      <td>0</td>\n",
       "      <td>0</td>\n",
       "      <td>0</td>\n",
       "      <td>0</td>\n",
       "      <td>0</td>\n",
       "      <td>0</td>\n",
       "      <td>0</td>\n",
       "    </tr>\n",
       "    <tr>\n",
       "      <th>...</th>\n",
       "      <td>...</td>\n",
       "      <td>...</td>\n",
       "      <td>...</td>\n",
       "      <td>...</td>\n",
       "      <td>...</td>\n",
       "      <td>...</td>\n",
       "      <td>...</td>\n",
       "      <td>...</td>\n",
       "      <td>...</td>\n",
       "      <td>...</td>\n",
       "      <td>...</td>\n",
       "      <td>...</td>\n",
       "      <td>...</td>\n",
       "      <td>...</td>\n",
       "      <td>...</td>\n",
       "      <td>...</td>\n",
       "      <td>...</td>\n",
       "      <td>...</td>\n",
       "      <td>...</td>\n",
       "      <td>...</td>\n",
       "      <td>...</td>\n",
       "    </tr>\n",
       "    <tr>\n",
       "      <th>41995</th>\n",
       "      <td>0</td>\n",
       "      <td>0</td>\n",
       "      <td>0</td>\n",
       "      <td>0</td>\n",
       "      <td>0</td>\n",
       "      <td>0</td>\n",
       "      <td>0</td>\n",
       "      <td>0</td>\n",
       "      <td>0</td>\n",
       "      <td>0</td>\n",
       "      <td>...</td>\n",
       "      <td>0</td>\n",
       "      <td>0</td>\n",
       "      <td>0</td>\n",
       "      <td>0</td>\n",
       "      <td>0</td>\n",
       "      <td>0</td>\n",
       "      <td>0</td>\n",
       "      <td>0</td>\n",
       "      <td>0</td>\n",
       "      <td>0</td>\n",
       "    </tr>\n",
       "    <tr>\n",
       "      <th>41996</th>\n",
       "      <td>1</td>\n",
       "      <td>0</td>\n",
       "      <td>0</td>\n",
       "      <td>0</td>\n",
       "      <td>0</td>\n",
       "      <td>0</td>\n",
       "      <td>0</td>\n",
       "      <td>0</td>\n",
       "      <td>0</td>\n",
       "      <td>0</td>\n",
       "      <td>...</td>\n",
       "      <td>0</td>\n",
       "      <td>0</td>\n",
       "      <td>0</td>\n",
       "      <td>0</td>\n",
       "      <td>0</td>\n",
       "      <td>0</td>\n",
       "      <td>0</td>\n",
       "      <td>0</td>\n",
       "      <td>0</td>\n",
       "      <td>0</td>\n",
       "    </tr>\n",
       "    <tr>\n",
       "      <th>41997</th>\n",
       "      <td>7</td>\n",
       "      <td>0</td>\n",
       "      <td>0</td>\n",
       "      <td>0</td>\n",
       "      <td>0</td>\n",
       "      <td>0</td>\n",
       "      <td>0</td>\n",
       "      <td>0</td>\n",
       "      <td>0</td>\n",
       "      <td>0</td>\n",
       "      <td>...</td>\n",
       "      <td>0</td>\n",
       "      <td>0</td>\n",
       "      <td>0</td>\n",
       "      <td>0</td>\n",
       "      <td>0</td>\n",
       "      <td>0</td>\n",
       "      <td>0</td>\n",
       "      <td>0</td>\n",
       "      <td>0</td>\n",
       "      <td>0</td>\n",
       "    </tr>\n",
       "    <tr>\n",
       "      <th>41998</th>\n",
       "      <td>6</td>\n",
       "      <td>0</td>\n",
       "      <td>0</td>\n",
       "      <td>0</td>\n",
       "      <td>0</td>\n",
       "      <td>0</td>\n",
       "      <td>0</td>\n",
       "      <td>0</td>\n",
       "      <td>0</td>\n",
       "      <td>0</td>\n",
       "      <td>...</td>\n",
       "      <td>0</td>\n",
       "      <td>0</td>\n",
       "      <td>0</td>\n",
       "      <td>0</td>\n",
       "      <td>0</td>\n",
       "      <td>0</td>\n",
       "      <td>0</td>\n",
       "      <td>0</td>\n",
       "      <td>0</td>\n",
       "      <td>0</td>\n",
       "    </tr>\n",
       "    <tr>\n",
       "      <th>41999</th>\n",
       "      <td>9</td>\n",
       "      <td>0</td>\n",
       "      <td>0</td>\n",
       "      <td>0</td>\n",
       "      <td>0</td>\n",
       "      <td>0</td>\n",
       "      <td>0</td>\n",
       "      <td>0</td>\n",
       "      <td>0</td>\n",
       "      <td>0</td>\n",
       "      <td>...</td>\n",
       "      <td>0</td>\n",
       "      <td>0</td>\n",
       "      <td>0</td>\n",
       "      <td>0</td>\n",
       "      <td>0</td>\n",
       "      <td>0</td>\n",
       "      <td>0</td>\n",
       "      <td>0</td>\n",
       "      <td>0</td>\n",
       "      <td>0</td>\n",
       "    </tr>\n",
       "  </tbody>\n",
       "</table>\n",
       "<p>42000 rows × 785 columns</p>\n",
       "</div>"
      ],
      "text/plain": [
       "       label  pixel0  pixel1  pixel2  pixel3  pixel4  pixel5  pixel6  pixel7  \\\n",
       "0          1       0       0       0       0       0       0       0       0   \n",
       "1          0       0       0       0       0       0       0       0       0   \n",
       "2          1       0       0       0       0       0       0       0       0   \n",
       "3          4       0       0       0       0       0       0       0       0   \n",
       "4          0       0       0       0       0       0       0       0       0   \n",
       "...      ...     ...     ...     ...     ...     ...     ...     ...     ...   \n",
       "41995      0       0       0       0       0       0       0       0       0   \n",
       "41996      1       0       0       0       0       0       0       0       0   \n",
       "41997      7       0       0       0       0       0       0       0       0   \n",
       "41998      6       0       0       0       0       0       0       0       0   \n",
       "41999      9       0       0       0       0       0       0       0       0   \n",
       "\n",
       "       pixel8  ...  pixel774  pixel775  pixel776  pixel777  pixel778  \\\n",
       "0           0  ...         0         0         0         0         0   \n",
       "1           0  ...         0         0         0         0         0   \n",
       "2           0  ...         0         0         0         0         0   \n",
       "3           0  ...         0         0         0         0         0   \n",
       "4           0  ...         0         0         0         0         0   \n",
       "...       ...  ...       ...       ...       ...       ...       ...   \n",
       "41995       0  ...         0         0         0         0         0   \n",
       "41996       0  ...         0         0         0         0         0   \n",
       "41997       0  ...         0         0         0         0         0   \n",
       "41998       0  ...         0         0         0         0         0   \n",
       "41999       0  ...         0         0         0         0         0   \n",
       "\n",
       "       pixel779  pixel780  pixel781  pixel782  pixel783  \n",
       "0             0         0         0         0         0  \n",
       "1             0         0         0         0         0  \n",
       "2             0         0         0         0         0  \n",
       "3             0         0         0         0         0  \n",
       "4             0         0         0         0         0  \n",
       "...         ...       ...       ...       ...       ...  \n",
       "41995         0         0         0         0         0  \n",
       "41996         0         0         0         0         0  \n",
       "41997         0         0         0         0         0  \n",
       "41998         0         0         0         0         0  \n",
       "41999         0         0         0         0         0  \n",
       "\n",
       "[42000 rows x 785 columns]"
      ]
     },
     "execution_count": 15,
     "metadata": {},
     "output_type": "execute_result"
    }
   ],
   "source": [
    "# first, we load the data:\n",
    "\n",
    "data = pd.read_csv('digit-recognizer/train.csv')\n",
    "data"
   ]
  },
  {
   "cell_type": "markdown",
   "metadata": {},
   "source": [
    "#### Data preparation:\n",
    "\n",
    "Now, the first column are the labels, the remaining 784 columns are the pixel values. I have to:\n",
    "\n",
    "1) split the data in train and validation sets\n",
    "\n",
    "2) split validation sets into features and labels\n",
    "\n",
    "3) correctly format features intoa a 28x28 grid"
   ]
  },
  {
   "cell_type": "code",
   "execution_count": 52,
   "metadata": {},
   "outputs": [],
   "source": [
    "val_split=0.3"
   ]
  },
  {
   "cell_type": "code",
   "execution_count": 16,
   "metadata": {},
   "outputs": [],
   "source": [
    "def data_prep(input_df,verbose=False):\n",
    "    rng = np.random.default_rng(seed=123)\n",
    "    data=np.array(input_df)\n",
    "    m,n=data.shape\n",
    "    rng.shuffle(data)\n",
    "    #train_size=int(m*split)\n",
    "    #x_val=data[:train_size,1:]#the last 784 columns of the first train_size rows are the training features\n",
    "    #y_val=data[:train_size,0]\n",
    "    x_train=data[:,1:]\n",
    "    y_train=data[:,0]\n",
    "    x_train=(x_train.reshape(-1,28,28)/255.).astype('float32')\n",
    "    #x_val=(x_val.reshape(-1,28,28)/255.).astype('float32')\n",
    "    if verbose:\n",
    "        print(x_train.shape)\n",
    "    y_train = tf.keras.utils.to_categorical(y_train)\n",
    "    #y_val = tf.keras.utils.to_categorical(y_val)\n",
    "    return x_train,y_train"
   ]
  },
  {
   "cell_type": "markdown",
   "metadata": {},
   "source": [
    "Should use datasets maybe"
   ]
  },
  {
   "cell_type": "code",
   "execution_count": 80,
   "metadata": {},
   "outputs": [],
   "source": [
    "(x_train, y_train), (x_test, y_test) = mnist.load_data()\n",
    "x_train, x_test = x_train / 255.0, x_test / 255.0\n",
    "\n",
    "# Add a channels dimension\n",
    "x_train = x_train[..., tf.newaxis].astype(\"float32\")\n",
    "x_test = x_test[..., tf.newaxis].astype(\"float32\")"
   ]
  },
  {
   "cell_type": "code",
   "execution_count": 81,
   "metadata": {},
   "outputs": [
    {
     "data": {
      "text/plain": [
       "(60000, 28, 28, 1)"
      ]
     },
     "execution_count": 81,
     "metadata": {},
     "output_type": "execute_result"
    }
   ],
   "source": [
    "x_train.shape"
   ]
  },
  {
   "cell_type": "code",
   "execution_count": 82,
   "metadata": {},
   "outputs": [],
   "source": [
    "y_train = tf.keras.utils.to_categorical(y_train)"
   ]
  },
  {
   "cell_type": "code",
   "execution_count": 83,
   "metadata": {},
   "outputs": [],
   "source": [
    "#x_train, y_train= data_prep(data, verbose=True)"
   ]
  },
  {
   "cell_type": "code",
   "execution_count": 84,
   "metadata": {},
   "outputs": [],
   "source": [
    "#x_train = tf.expand_dims(x_train, axis=-1)\n",
    "#x_val = tf.expand_dims(x_val, axis=-1)\n",
    "#x_train = x_train.reshape(-1, 28, 28, 1)\n",
    "#x_val = x_val.reshape(-1, 28, 28, 1)"
   ]
  },
  {
   "cell_type": "code",
   "execution_count": 85,
   "metadata": {},
   "outputs": [],
   "source": [
    "x_train=tf.convert_to_tensor(x_train)\n",
    "y_train=tf.convert_to_tensor(y_train)"
   ]
  },
  {
   "cell_type": "markdown",
   "metadata": {},
   "source": [
    "#### Now I have the data prepared, I can construct a CNN and feed data to it:"
   ]
  },
  {
   "cell_type": "code",
   "execution_count": 86,
   "metadata": {},
   "outputs": [],
   "source": [
    "def create_model():\n",
    "    '''simple convolutional neural network'''\n",
    "    model=tf.keras.models.Sequential(name='CNN_MNIST')\n",
    "    model.add(tf.keras.layers.Conv2D(20,4,strides=(1,1), activation='relu',input_shape=(28,28,1,),name='Conv1'))\n",
    "    model.add(tf.keras.layers.MaxPooling2D(pool_size=(2,2)))\n",
    "    model.add(tf.keras.layers.Conv2D(20,3,activation='relu'))\n",
    "    model.add(tf.keras.layers.Dropout(0.2))\n",
    "    model.add(tf.keras.layers.Flatten())\n",
    "    model.add(tf.keras.layers.Dense(units=100,activation='relu'))\n",
    "    model.add(tf.keras.layers.Dropout(0.2))\n",
    "    model.add(tf.keras.layers.Dense(units=100,activation='relu'))\n",
    "    model.add(tf.keras.layers.Dense(units=10,activation='softmax'))\n",
    "    model.compile(loss='categorical_crossentropy',optimizer='adam',metrics=['accuracy'])\n",
    "    return model"
   ]
  },
  {
   "cell_type": "code",
   "execution_count": 87,
   "metadata": {},
   "outputs": [],
   "source": [
    "def create_model_functionalAPI():\n",
    "    input=tf.keras.Input(shape=(28,28,1,))\n",
    "    x=tf.keras.layers.Conv2D(20,4,strides=(1,1), activation='relu',input_shape=(28,28,1,),name='Conv1')(input)\n",
    "    x=tf.keras.layers.MaxPooling2D(pool_size=(2,2))(x)\n",
    "    x=tf.keras.layers.Conv2D(20,3,activation='relu')(x)\n",
    "    x=tf.keras.layers.Dropout(0.2)(x)\n",
    "    x=tf.keras.layers.Flatten()(x)\n",
    "    x=tf.keras.layers.Dense(units=100,activation='relu')(x)\n",
    "    x=tf.keras.layers.Dropout(0.2)(x)\n",
    "    x=tf.keras.layers.Dense(units=100,activation='relu')(x)\n",
    "    output=tf.keras.layers.Dense(units=10,activation='softmax')(x)\n",
    "    model=tf.keras.Model(input,output)\n",
    "    model.compile(loss='categorical_crossentropy',optimizer='adam',metrics=['accuracy'])\n",
    "    return model"
   ]
  },
  {
   "cell_type": "code",
   "execution_count": 88,
   "metadata": {},
   "outputs": [
    {
     "name": "stdout",
     "output_type": "stream",
     "text": [
      "Model: \"model_3\"\n",
      "_________________________________________________________________\n",
      " Layer (type)                Output Shape              Param #   \n",
      "=================================================================\n",
      " input_4 (InputLayer)        [(None, 28, 28, 1)]       0         \n",
      "                                                                 \n",
      " Conv1 (Conv2D)              (None, 25, 25, 20)        340       \n",
      "                                                                 \n",
      " max_pooling2d_5 (MaxPooling  (None, 12, 12, 20)       0         \n",
      " 2D)                                                             \n",
      "                                                                 \n",
      " conv2d_5 (Conv2D)           (None, 10, 10, 20)        3620      \n",
      "                                                                 \n",
      " dropout_10 (Dropout)        (None, 10, 10, 20)        0         \n",
      "                                                                 \n",
      " flatten_5 (Flatten)         (None, 2000)              0         \n",
      "                                                                 \n",
      " dense_15 (Dense)            (None, 100)               200100    \n",
      "                                                                 \n",
      " dropout_11 (Dropout)        (None, 100)               0         \n",
      "                                                                 \n",
      " dense_16 (Dense)            (None, 100)               10100     \n",
      "                                                                 \n",
      " dense_17 (Dense)            (None, 10)                1010      \n",
      "                                                                 \n",
      "=================================================================\n",
      "Total params: 215,170\n",
      "Trainable params: 215,170\n",
      "Non-trainable params: 0\n",
      "_________________________________________________________________\n"
     ]
    }
   ],
   "source": [
    "model_func=create_model_functionalAPI()\n",
    "model_func.summary()"
   ]
  },
  {
   "cell_type": "code",
   "execution_count": 89,
   "metadata": {},
   "outputs": [],
   "source": [
    "def visualize_example(x,y,index):\n",
    "    #img=np.reshape(x[index],(28,28))\n",
    "    img=x[index]*255.\n",
    "    label=np.argmax(y[index])\n",
    "    print('Example number: ', index, '\\nLabel: ' , label)\n",
    "    plt.gray()\n",
    "    plt.imshow(img, interpolation='nearest')\n",
    "    plt.show()\n"
   ]
  },
  {
   "cell_type": "code",
   "execution_count": 90,
   "metadata": {},
   "outputs": [],
   "source": [
    "def test_model(model,x,y,ind,show_probability=False):\n",
    "    example=x[None,ind]\n",
    "    if show_probability:\n",
    "        print(model(example))\n",
    "    prediction=np.argmax(model.predict(example))\n",
    "    print('Prediction: ', prediction)\n",
    "    visualize_example(x,y,ind)\n"
   ]
  },
  {
   "cell_type": "code",
   "execution_count": 91,
   "metadata": {},
   "outputs": [
    {
     "name": "stdout",
     "output_type": "stream",
     "text": [
      "Model: \"CNN_MNIST\"\n",
      "_________________________________________________________________\n",
      " Layer (type)                Output Shape              Param #   \n",
      "=================================================================\n",
      " Conv1 (Conv2D)              (None, 25, 25, 20)        340       \n",
      "                                                                 \n",
      " max_pooling2d_6 (MaxPooling  (None, 12, 12, 20)       0         \n",
      " 2D)                                                             \n",
      "                                                                 \n",
      " conv2d_6 (Conv2D)           (None, 10, 10, 20)        3620      \n",
      "                                                                 \n",
      " dropout_12 (Dropout)        (None, 10, 10, 20)        0         \n",
      "                                                                 \n",
      " flatten_6 (Flatten)         (None, 2000)              0         \n",
      "                                                                 \n",
      " dense_18 (Dense)            (None, 100)               200100    \n",
      "                                                                 \n",
      " dropout_13 (Dropout)        (None, 100)               0         \n",
      "                                                                 \n",
      " dense_19 (Dense)            (None, 100)               10100     \n",
      "                                                                 \n",
      " dense_20 (Dense)            (None, 10)                1010      \n",
      "                                                                 \n",
      "=================================================================\n",
      "Total params: 215,170\n",
      "Trainable params: 215,170\n",
      "Non-trainable params: 0\n",
      "_________________________________________________________________\n",
      "None\n"
     ]
    }
   ],
   "source": [
    "model=create_model()\n",
    "print(model.summary())"
   ]
  },
  {
   "cell_type": "code",
   "execution_count": 92,
   "metadata": {},
   "outputs": [
    {
     "data": {
      "text/plain": [
       "TensorShape([60000, 28, 28, 1])"
      ]
     },
     "execution_count": 92,
     "metadata": {},
     "output_type": "execute_result"
    }
   ],
   "source": [
    "x_train.shape#(42000, 28, 28,1)"
   ]
  },
  {
   "cell_type": "markdown",
   "metadata": {},
   "source": [
    "I should tell the training function to stop then the validation loss strts growing again. Also should get model checkpoints and save the best performing model iteration\n",
    "\n",
    "-> keras kallbacks"
   ]
  },
  {
   "cell_type": "code",
   "execution_count": 93,
   "metadata": {},
   "outputs": [
    {
     "name": "stdout",
     "output_type": "stream",
     "text": [
      "Epoch 1/50\n",
      "1400/1400 [==============================] - 11s 8ms/step - loss: 0.2154 - accuracy: 0.9317 - val_loss: 0.0715 - val_accuracy: 0.9794\n",
      "Epoch 2/50\n",
      "1400/1400 [==============================] - 10s 7ms/step - loss: 0.0746 - accuracy: 0.9770 - val_loss: 0.0705 - val_accuracy: 0.9799\n",
      "Epoch 3/50\n",
      "1400/1400 [==============================] - 10s 7ms/step - loss: 0.0557 - accuracy: 0.9828 - val_loss: 0.0446 - val_accuracy: 0.9858\n",
      "Epoch 4/50\n",
      "1400/1400 [==============================] - 11s 8ms/step - loss: 0.0459 - accuracy: 0.9858 - val_loss: 0.0442 - val_accuracy: 0.9875\n",
      "Epoch 5/50\n",
      "1400/1400 [==============================] - 11s 8ms/step - loss: 0.0388 - accuracy: 0.9877 - val_loss: 0.0450 - val_accuracy: 0.9877\n",
      "Epoch 6/50\n",
      "1400/1400 [==============================] - 11s 8ms/step - loss: 0.0336 - accuracy: 0.9898 - val_loss: 0.0595 - val_accuracy: 0.9842\n",
      "Epoch 7/50\n",
      "1400/1400 [==============================] - 11s 8ms/step - loss: 0.0285 - accuracy: 0.9905 - val_loss: 0.0415 - val_accuracy: 0.9891\n",
      "Epoch 8/50\n",
      "1400/1400 [==============================] - 11s 8ms/step - loss: 0.0264 - accuracy: 0.9919 - val_loss: 0.0431 - val_accuracy: 0.9897\n",
      "Epoch 9/50\n",
      "1400/1400 [==============================] - 11s 8ms/step - loss: 0.0253 - accuracy: 0.9924 - val_loss: 0.0441 - val_accuracy: 0.9891\n",
      "Epoch 10/50\n",
      "1400/1400 [==============================] - 11s 8ms/step - loss: 0.0221 - accuracy: 0.9926 - val_loss: 0.0434 - val_accuracy: 0.9898\n",
      "Epoch 11/50\n",
      "1400/1400 [==============================] - 11s 8ms/step - loss: 0.0220 - accuracy: 0.9929 - val_loss: 0.0516 - val_accuracy: 0.9884\n",
      "Epoch 12/50\n",
      "1400/1400 [==============================] - 11s 8ms/step - loss: 0.0173 - accuracy: 0.9942 - val_loss: 0.0451 - val_accuracy: 0.9902\n",
      "Epoch 13/50\n",
      "1400/1400 [==============================] - 11s 8ms/step - loss: 0.0174 - accuracy: 0.9946 - val_loss: 0.0479 - val_accuracy: 0.9900\n",
      "Epoch 14/50\n",
      "1400/1400 [==============================] - 11s 8ms/step - loss: 0.0191 - accuracy: 0.9939 - val_loss: 0.0432 - val_accuracy: 0.9903\n",
      "Epoch 15/50\n",
      "1400/1400 [==============================] - 11s 8ms/step - loss: 0.0138 - accuracy: 0.9957 - val_loss: 0.0515 - val_accuracy: 0.9906\n",
      "Epoch 16/50\n",
      "1400/1400 [==============================] - 11s 8ms/step - loss: 0.0162 - accuracy: 0.9950 - val_loss: 0.0530 - val_accuracy: 0.9888\n",
      "Epoch 17/50\n",
      "1400/1400 [==============================] - 12s 9ms/step - loss: 0.0131 - accuracy: 0.9955 - val_loss: 0.0553 - val_accuracy: 0.9900\n",
      "Epoch 18/50\n",
      "1400/1400 [==============================] - 16s 11ms/step - loss: 0.0149 - accuracy: 0.9955 - val_loss: 0.0610 - val_accuracy: 0.9868\n",
      "Epoch 19/50\n",
      "1400/1400 [==============================] - 11s 8ms/step - loss: 0.0126 - accuracy: 0.9961 - val_loss: 0.0526 - val_accuracy: 0.9888\n",
      "Epoch 20/50\n",
      "1400/1400 [==============================] - 11s 8ms/step - loss: 0.0129 - accuracy: 0.9959 - val_loss: 0.0513 - val_accuracy: 0.9889\n",
      "Epoch 21/50\n",
      "1400/1400 [==============================] - 12s 8ms/step - loss: 0.0141 - accuracy: 0.9956 - val_loss: 0.0574 - val_accuracy: 0.9906\n",
      "Epoch 22/50\n",
      "1400/1400 [==============================] - 11s 8ms/step - loss: 0.0117 - accuracy: 0.9961 - val_loss: 0.0465 - val_accuracy: 0.9907\n",
      "Epoch 23/50\n",
      "1400/1400 [==============================] - 11s 8ms/step - loss: 0.0117 - accuracy: 0.9961 - val_loss: 0.0506 - val_accuracy: 0.9906\n",
      "Epoch 24/50\n",
      "1400/1400 [==============================] - 13s 9ms/step - loss: 0.0104 - accuracy: 0.9967 - val_loss: 0.0514 - val_accuracy: 0.9909\n",
      "Epoch 25/50\n",
      "1400/1400 [==============================] - 11s 8ms/step - loss: 0.0111 - accuracy: 0.9966 - val_loss: 0.0522 - val_accuracy: 0.9899\n",
      "Epoch 26/50\n",
      "1400/1400 [==============================] - 10s 7ms/step - loss: 0.0105 - accuracy: 0.9968 - val_loss: 0.0588 - val_accuracy: 0.9889\n",
      "Epoch 27/50\n",
      "1400/1400 [==============================] - 9s 7ms/step - loss: 0.0104 - accuracy: 0.9968 - val_loss: 0.0545 - val_accuracy: 0.9908\n",
      "Epoch 28/50\n",
      "1400/1400 [==============================] - 10s 7ms/step - loss: 0.0095 - accuracy: 0.9972 - val_loss: 0.0530 - val_accuracy: 0.9907\n",
      "Epoch 29/50\n",
      "1400/1400 [==============================] - 12s 9ms/step - loss: 0.0115 - accuracy: 0.9966 - val_loss: 0.0482 - val_accuracy: 0.9911\n",
      "Epoch 30/50\n",
      "1400/1400 [==============================] - 13s 10ms/step - loss: 0.0093 - accuracy: 0.9971 - val_loss: 0.0587 - val_accuracy: 0.9897\n",
      "Epoch 31/50\n",
      "1400/1400 [==============================] - 14s 10ms/step - loss: 0.0091 - accuracy: 0.9971 - val_loss: 0.0546 - val_accuracy: 0.9900\n",
      "Epoch 32/50\n",
      "1400/1400 [==============================] - 13s 9ms/step - loss: 0.0105 - accuracy: 0.9963 - val_loss: 0.0578 - val_accuracy: 0.9909\n",
      "Epoch 33/50\n",
      "1400/1400 [==============================] - 13s 9ms/step - loss: 0.0087 - accuracy: 0.9973 - val_loss: 0.0531 - val_accuracy: 0.9905\n",
      "Epoch 34/50\n",
      "1400/1400 [==============================] - 13s 10ms/step - loss: 0.0098 - accuracy: 0.9972 - val_loss: 0.0576 - val_accuracy: 0.9900\n",
      "Epoch 35/50\n",
      "1400/1400 [==============================] - 13s 9ms/step - loss: 0.0084 - accuracy: 0.9970 - val_loss: 0.0549 - val_accuracy: 0.9912\n",
      "Epoch 36/50\n",
      "1400/1400 [==============================] - 14s 10ms/step - loss: 0.0077 - accuracy: 0.9976 - val_loss: 0.0568 - val_accuracy: 0.9896\n",
      "Epoch 37/50\n",
      "1400/1400 [==============================] - 13s 10ms/step - loss: 0.0088 - accuracy: 0.9972 - val_loss: 0.0555 - val_accuracy: 0.9907\n",
      "Epoch 38/50\n",
      "1400/1400 [==============================] - 14s 10ms/step - loss: 0.0093 - accuracy: 0.9974 - val_loss: 0.0606 - val_accuracy: 0.9889\n",
      "Epoch 39/50\n",
      "1400/1400 [==============================] - 13s 10ms/step - loss: 0.0081 - accuracy: 0.9975 - val_loss: 0.0619 - val_accuracy: 0.9892\n",
      "Epoch 40/50\n",
      "1400/1400 [==============================] - 13s 9ms/step - loss: 0.0090 - accuracy: 0.9972 - val_loss: 0.0631 - val_accuracy: 0.9889\n",
      "Epoch 41/50\n",
      "1400/1400 [==============================] - 13s 9ms/step - loss: 0.0098 - accuracy: 0.9973 - val_loss: 0.0596 - val_accuracy: 0.9899\n",
      "Epoch 42/50\n",
      "1400/1400 [==============================] - 14s 10ms/step - loss: 0.0063 - accuracy: 0.9981 - val_loss: 0.0553 - val_accuracy: 0.9909\n",
      "Epoch 43/50\n",
      "1400/1400 [==============================] - 15s 10ms/step - loss: 0.0084 - accuracy: 0.9975 - val_loss: 0.0547 - val_accuracy: 0.9909\n",
      "Epoch 44/50\n",
      "1400/1400 [==============================] - 13s 9ms/step - loss: 0.0067 - accuracy: 0.9982 - val_loss: 0.0592 - val_accuracy: 0.9899\n",
      "Epoch 45/50\n",
      "1400/1400 [==============================] - 13s 9ms/step - loss: 0.0092 - accuracy: 0.9972 - val_loss: 0.0587 - val_accuracy: 0.9907\n",
      "Epoch 46/50\n",
      "1400/1400 [==============================] - 13s 9ms/step - loss: 0.0073 - accuracy: 0.9981 - val_loss: 0.0581 - val_accuracy: 0.9911\n",
      "Epoch 47/50\n",
      "1400/1400 [==============================] - 13s 9ms/step - loss: 0.0070 - accuracy: 0.9982 - val_loss: 0.0676 - val_accuracy: 0.9897\n",
      "Epoch 48/50\n",
      "1400/1400 [==============================] - 14s 10ms/step - loss: 0.0099 - accuracy: 0.9970 - val_loss: 0.0635 - val_accuracy: 0.9904\n",
      "Epoch 49/50\n",
      "1400/1400 [==============================] - 13s 9ms/step - loss: 0.0055 - accuracy: 0.9984 - val_loss: 0.0726 - val_accuracy: 0.9895\n",
      "Epoch 50/50\n",
      "1400/1400 [==============================] - 13s 9ms/step - loss: 0.0084 - accuracy: 0.9979 - val_loss: 0.0739 - val_accuracy: 0.9898\n"
     ]
    }
   ],
   "source": [
    "history = model_func.fit(x_train, y_train,batch_size=30, epochs=50, validation_split=val_split)"
   ]
  },
  {
   "cell_type": "code",
   "execution_count": 94,
   "metadata": {},
   "outputs": [
    {
     "data": {
      "image/png": "[encoded data removed]",
      "text/plain": [
       "<Figure size 432x288 with 1 Axes>"
      ]
     },
     "metadata": {
      "needs_background": "light"
     },
     "output_type": "display_data"
    },
    {
     "data": {
      "image/png": "[encoded data removed]",
      "text/plain": [
       "<Figure size 432x288 with 1 Axes>"
      ]
     },
     "metadata": {
      "needs_background": "light"
     },
     "output_type": "display_data"
    }
   ],
   "source": [
    "acc = history.history['accuracy']\n",
    "val_acc = history.history['val_accuracy']\n",
    "\n",
    "loss = history.history['loss']\n",
    "val_loss = history.history['val_loss']\n",
    "\n",
    "epochs = range(len(acc))\n",
    "\n",
    "plt.plot(epochs, acc)\n",
    "plt.plot(epochs, val_acc)\n",
    "plt.title('Training and validation accuracy')\n",
    "\n",
    "plt.figure()\n",
    "\n",
    "plt.plot(epochs, loss)\n",
    "plt.plot(epochs, val_loss)\n",
    "plt.title('Training and validation loss')\n",
    "plt.show()"
   ]
  },
  {
   "cell_type": "code",
   "execution_count": 95,
   "metadata": {},
   "outputs": [
    {
     "name": "stdout",
     "output_type": "stream",
     "text": [
      "1/1 [==============================] - 0s 85ms/step\n"
     ]
    },
    {
     "data": {
      "text/plain": [
       "array([[0.09274788, 0.10101694, 0.08581778, 0.10063553, 0.10526346,\n",
       "        0.09277234, 0.10844887, 0.09309308, 0.09863895, 0.12156512]],\n",
       "      dtype=float32)"
      ]
     },
     "execution_count": 95,
     "metadata": {},
     "output_type": "execute_result"
    }
   ],
   "source": [
    "model.predict(x_train[None,np.random.randint(0,4000)])"
   ]
  },
  {
   "cell_type": "code",
   "execution_count": 96,
   "metadata": {},
   "outputs": [
    {
     "name": "stdout",
     "output_type": "stream",
     "text": [
      "tf.Tensor(\n",
      "[[0.09715835 0.10669772 0.08560418 0.10408791 0.10114983 0.08480825\n",
      "  0.11308005 0.08873642 0.10160948 0.11706784]], shape=(1, 10), dtype=float32)\n",
      "1/1 [==============================] - 0s 26ms/step\n",
      "Prediction:  9\n",
      "Example number:  35157 \n",
      "Label:  0\n"
     ]
    },
    {
     "data": {
      "image/png": "[encoded data removed]",
      "text/plain": [
       "<Figure size 432x288 with 1 Axes>"
      ]
     },
     "metadata": {
      "needs_background": "light"
     },
     "output_type": "display_data"
    }
   ],
   "source": [
    "test_model(model,x_train,y_train,np.random.randint(0,x_train.shape[0]),show_probability=True)"
   ]
  },
  {
   "cell_type": "code",
   "execution_count": 97,
   "metadata": {},
   "outputs": [],
   "source": [
    "from datetime import datetime"
   ]
  },
  {
   "cell_type": "code",
   "execution_count": 98,
   "metadata": {},
   "outputs": [],
   "source": [
    "timestamp=datetime.today().strftime('%Y%m%d%H%M%S')"
   ]
  },
  {
   "cell_type": "code",
   "execution_count": 99,
   "metadata": {},
   "outputs": [
    {
     "name": "stdout",
     "output_type": "stream",
     "text": [
      "model saved as models/mnist_CNNv1_20221110172433.h5\n"
     ]
    }
   ],
   "source": [
    "# Save the trained model\n",
    "savemodel=True\n",
    "modelFileName = 'models/mnist_CNNv1_'+timestamp+'.h5'\n",
    "if savemodel:\n",
    "    model_func.save(modelFileName)\n",
    "    #del model  # deletes the existing model variable\n",
    "    print('model saved as', modelFileName)"
   ]
  },
  {
   "cell_type": "markdown",
   "metadata": {},
   "source": [
    "Next: obtain confusion matrix"
   ]
  },
  {
   "cell_type": "code",
   "execution_count": 100,
   "metadata": {},
   "outputs": [],
   "source": [
    "model = tf.keras.models.load_model(modelFileName)\n"
   ]
  },
  {
   "cell_type": "code",
   "execution_count": 101,
   "metadata": {},
   "outputs": [
    {
     "name": "stdout",
     "output_type": "stream",
     "text": [
      "1875/1875 [==============================] - 5s 3ms/step\n"
     ]
    },
    {
     "data": {
      "image/png": "[encoded data removed]",
      "text/plain": [
       "<Figure size 432x288 with 2 Axes>"
      ]
     },
     "metadata": {
      "needs_background": "light"
     },
     "output_type": "display_data"
    },
    {
     "name": "stdout",
     "output_type": "stream",
     "text": [
      "              precision    recall  f1-score   support\n",
      "\n",
      "           0      0.997     0.999     0.998      5923\n",
      "           1      0.998     0.999     0.998      6742\n",
      "           2      0.996     0.997     0.997      5958\n",
      "           3      0.998     0.996     0.997      6131\n",
      "           4      0.996     0.997     0.997      5842\n",
      "           5      0.998     0.996     0.997      5421\n",
      "           6      0.998     0.998     0.998      5918\n",
      "           7      0.994     0.997     0.996      6265\n",
      "           8      0.998     0.992     0.995      5851\n",
      "           9      0.994     0.996     0.995      5949\n",
      "\n",
      "    accuracy                          0.997     60000\n",
      "   macro avg      0.997     0.997     0.997     60000\n",
      "weighted avg      0.997     0.997     0.997     60000\n",
      "\n"
     ]
    }
   ],
   "source": [
    "# Tensorflow doesn't have a built-in confusion matrix metric, so we'll use SciKit-Learn\n",
    "#import numpy as np\n",
    "from sklearn.metrics import confusion_matrix\n",
    "from sklearn.metrics import classification_report\n",
    "#import matplotlib.pyplot as plt\n",
    "%matplotlib inline\n",
    "\n",
    "\n",
    "class_probabilities = model_func.predict(x_train)\n",
    "predictions = np.argmax(class_probabilities, axis=1)\n",
    "true_labels = np.argmax(y_train,axis=1)\n",
    "\n",
    "# Plot the confusion matrix\n",
    "cm = confusion_matrix(true_labels, predictions)\n",
    "plt.imshow(cm, interpolation=\"nearest\", cmap=plt.cm.Blues)\n",
    "plt.colorbar()\n",
    "tick_marks = np.arange(10)\n",
    "plt.xticks(tick_marks, tick_marks, rotation=0)\n",
    "plt.yticks(tick_marks, tick_marks)\n",
    "plt.xlabel(\"Predicted Number\")\n",
    "plt.ylabel(\"Actual Number\")\n",
    "plt.show()\n",
    "#print(cm)\n",
    "print(classification_report(true_labels,predictions,digits=3))"
   ]
  },
  {
   "cell_type": "code",
   "execution_count": 102,
   "metadata": {},
   "outputs": [
    {
     "name": "stdout",
     "output_type": "stream",
     "text": [
      "[5 0 4 ... 5 6 8]\n"
     ]
    }
   ],
   "source": [
    "print(true_labels)"
   ]
  },
  {
   "cell_type": "code",
   "execution_count": 103,
   "metadata": {},
   "outputs": [],
   "source": [
    "kaggle_test=pd.read_csv('digit-recognizer/test.csv')\n",
    "kaggle_test.shape\n",
    "kaggle_test = np.array(kaggle_test).reshape(-1, 28, 28, 1)\n"
   ]
  },
  {
   "cell_type": "code",
   "execution_count": 104,
   "metadata": {},
   "outputs": [
    {
     "name": "stdout",
     "output_type": "stream",
     "text": [
      "875/875 [==============================] - 3s 3ms/step\n"
     ]
    }
   ],
   "source": [
    "kaggle_predictions=model.predict(kaggle_test)"
   ]
  },
  {
   "cell_type": "code",
   "execution_count": 105,
   "metadata": {},
   "outputs": [
    {
     "name": "stdout",
     "output_type": "stream",
     "text": [
      "(28000,)\n"
     ]
    }
   ],
   "source": [
    "print(np.argmax(kaggle_predictions,axis=1).shape)"
   ]
  },
  {
   "cell_type": "code",
   "execution_count": 106,
   "metadata": {},
   "outputs": [
    {
     "name": "stdout",
     "output_type": "stream",
     "text": [
      "tf.Tensor([[0. 0. 0. 0. 0. 0. 0. 0. 1. 0.]], shape=(1, 10), dtype=float32)\n",
      "1/1 [==============================] - 0s 100ms/step\n",
      "Prediction:  8\n",
      "Example number:  17651 \n",
      "Label:  8\n"
     ]
    },
    {
     "data": {
      "image/png": "[encoded data removed]",
      "text/plain": [
       "<Figure size 432x288 with 1 Axes>"
      ]
     },
     "metadata": {
      "needs_background": "light"
     },
     "output_type": "display_data"
    }
   ],
   "source": [
    "test_model(model,kaggle_test,kaggle_predictions,np.random.randint(0,28000),show_probability=True)"
   ]
  },
  {
   "cell_type": "code",
   "execution_count": 107,
   "metadata": {},
   "outputs": [
    {
     "data": {
      "text/html": [
       "<div>\n",
       "<style scoped>\n",
       "    .dataframe tbody tr th:only-of-type {\n",
       "        vertical-align: middle;\n",
       "    }\n",
       "\n",
       "    .dataframe tbody tr th {\n",
       "        vertical-align: top;\n",
       "    }\n",
       "\n",
       "    .dataframe thead th {\n",
       "        text-align: right;\n",
       "    }\n",
       "</style>\n",
       "<table border=\"1\" class=\"dataframe\">\n",
       "  <thead>\n",
       "    <tr style=\"text-align: right;\">\n",
       "      <th></th>\n",
       "      <th>ImageId</th>\n",
       "      <th>Label</th>\n",
       "    </tr>\n",
       "  </thead>\n",
       "  <tbody>\n",
       "    <tr>\n",
       "      <th>0</th>\n",
       "      <td>1</td>\n",
       "      <td>2</td>\n",
       "    </tr>\n",
       "    <tr>\n",
       "      <th>1</th>\n",
       "      <td>2</td>\n",
       "      <td>0</td>\n",
       "    </tr>\n",
       "    <tr>\n",
       "      <th>2</th>\n",
       "      <td>3</td>\n",
       "      <td>9</td>\n",
       "    </tr>\n",
       "    <tr>\n",
       "      <th>3</th>\n",
       "      <td>4</td>\n",
       "      <td>9</td>\n",
       "    </tr>\n",
       "    <tr>\n",
       "      <th>4</th>\n",
       "      <td>5</td>\n",
       "      <td>3</td>\n",
       "    </tr>\n",
       "    <tr>\n",
       "      <th>...</th>\n",
       "      <td>...</td>\n",
       "      <td>...</td>\n",
       "    </tr>\n",
       "    <tr>\n",
       "      <th>27995</th>\n",
       "      <td>27996</td>\n",
       "      <td>9</td>\n",
       "    </tr>\n",
       "    <tr>\n",
       "      <th>27996</th>\n",
       "      <td>27997</td>\n",
       "      <td>7</td>\n",
       "    </tr>\n",
       "    <tr>\n",
       "      <th>27997</th>\n",
       "      <td>27998</td>\n",
       "      <td>3</td>\n",
       "    </tr>\n",
       "    <tr>\n",
       "      <th>27998</th>\n",
       "      <td>27999</td>\n",
       "      <td>9</td>\n",
       "    </tr>\n",
       "    <tr>\n",
       "      <th>27999</th>\n",
       "      <td>28000</td>\n",
       "      <td>2</td>\n",
       "    </tr>\n",
       "  </tbody>\n",
       "</table>\n",
       "<p>28000 rows × 2 columns</p>\n",
       "</div>"
      ],
      "text/plain": [
       "       ImageId  Label\n",
       "0            1      2\n",
       "1            2      0\n",
       "2            3      9\n",
       "3            4      9\n",
       "4            5      3\n",
       "...        ...    ...\n",
       "27995    27996      9\n",
       "27996    27997      7\n",
       "27997    27998      3\n",
       "27998    27999      9\n",
       "27999    28000      2\n",
       "\n",
       "[28000 rows x 2 columns]"
      ]
     },
     "execution_count": 107,
     "metadata": {},
     "output_type": "execute_result"
    }
   ],
   "source": [
    "sample=pd.read_csv('digit-recognizer/sample_submission.csv')\n",
    "sample['Label']=np.argmax(kaggle_predictions,axis=1)\n",
    "sample"
   ]
  },
  {
   "cell_type": "code",
   "execution_count": 108,
   "metadata": {},
   "outputs": [],
   "source": [
    "sample.to_csv('kaggle_predictions_CNN.csv',index=None)"
   ]
  }
 ],
 "metadata": {
  "kernelspec": {
   "display_name": "Python 3.9.12 ('tfgpu')",
   "language": "python",
   "name": "python3"
  },
  "language_info": {
   "codemirror_mode": {
    "name": "ipython",
    "version": 3
   },
   "file_extension": ".py",
   "mimetype": "text/x-python",
   "name": "python",
   "nbconvert_exporter": "python",
   "pygments_lexer": "ipython3",
   "version": "3.9.12"
  },
  "orig_nbformat": 4,
  "vscode": {
   "interpreter": {
    "hash": "4ac2639bf6c51b051b1b83c4d99575383d6e01bb4712884ebd29a7c900e61e25"
   }
  }
 },
 "nbformat": 4,
 "nbformat_minor": 2
}
