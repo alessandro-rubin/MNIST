{
 "cells": [
  {
   "cell_type": "markdown",
   "metadata": {},
   "source": [
    "# labeling MNIST data with a convolutional neural network\n",
    "\n"
   ]
  },
  {
   "cell_type": "code",
   "execution_count": 1,
   "metadata": {},
   "outputs": [],
   "source": [
    "import pandas as pd\n",
    "import numpy as np\n",
    "import matplotlib.pyplot as plt\n",
    "import tensorflow as tf"
   ]
  },
  {
   "cell_type": "code",
   "execution_count": 2,
   "metadata": {},
   "outputs": [
    {
     "name": "stdout",
     "output_type": "stream",
     "text": [
      "TensorFlow version: 2.10.0\n",
      "Keras version: 2.10.0\n"
     ]
    }
   ],
   "source": [
    "print('TensorFlow version:',tf.__version__)\n",
    "print('Keras version:',tf.keras.__version__)"
   ]
  },
  {
   "cell_type": "code",
   "execution_count": 3,
   "metadata": {},
   "outputs": [
    {
     "name": "stdout",
     "output_type": "stream",
     "text": [
      "c:\\Users\\Alessandro\\anaconda3\\envs\\tfgpu\\lib\\site-packages\\tensorflow\\__init__.py\n",
      "c:\\Users\\Alessandro\\anaconda3\\envs\\tfgpu\\lib\\site-packages\\keras\\api\\_v2\\keras\\__init__.py\n"
     ]
    }
   ],
   "source": [
    "print(tf.__file__)\n",
    "print(tf.keras.__file__)"
   ]
  },
  {
   "cell_type": "code",
   "execution_count": 4,
   "metadata": {},
   "outputs": [
    {
     "data": {
      "text/html": [
       "<div>\n",
       "<style scoped>\n",
       "    .dataframe tbody tr th:only-of-type {\n",
       "        vertical-align: middle;\n",
       "    }\n",
       "\n",
       "    .dataframe tbody tr th {\n",
       "        vertical-align: top;\n",
       "    }\n",
       "\n",
       "    .dataframe thead th {\n",
       "        text-align: right;\n",
       "    }\n",
       "</style>\n",
       "<table border=\"1\" class=\"dataframe\">\n",
       "  <thead>\n",
       "    <tr style=\"text-align: right;\">\n",
       "      <th></th>\n",
       "      <th>0</th>\n",
       "      <th>1</th>\n",
       "      <th>2</th>\n",
       "      <th>3</th>\n",
       "      <th>4</th>\n",
       "      <th>5</th>\n",
       "      <th>6</th>\n",
       "      <th>7</th>\n",
       "      <th>8</th>\n",
       "      <th>9</th>\n",
       "      <th>...</th>\n",
       "      <th>775</th>\n",
       "      <th>776</th>\n",
       "      <th>777</th>\n",
       "      <th>778</th>\n",
       "      <th>779</th>\n",
       "      <th>780</th>\n",
       "      <th>781</th>\n",
       "      <th>782</th>\n",
       "      <th>783</th>\n",
       "      <th>784</th>\n",
       "    </tr>\n",
       "  </thead>\n",
       "  <tbody>\n",
       "    <tr>\n",
       "      <th>0</th>\n",
       "      <td>6</td>\n",
       "      <td>0</td>\n",
       "      <td>0</td>\n",
       "      <td>0</td>\n",
       "      <td>0</td>\n",
       "      <td>0</td>\n",
       "      <td>0</td>\n",
       "      <td>0</td>\n",
       "      <td>0</td>\n",
       "      <td>0</td>\n",
       "      <td>...</td>\n",
       "      <td>0</td>\n",
       "      <td>0</td>\n",
       "      <td>0</td>\n",
       "      <td>0</td>\n",
       "      <td>0</td>\n",
       "      <td>0</td>\n",
       "      <td>0</td>\n",
       "      <td>0</td>\n",
       "      <td>0</td>\n",
       "      <td>0</td>\n",
       "    </tr>\n",
       "    <tr>\n",
       "      <th>1</th>\n",
       "      <td>5</td>\n",
       "      <td>0</td>\n",
       "      <td>0</td>\n",
       "      <td>0</td>\n",
       "      <td>0</td>\n",
       "      <td>0</td>\n",
       "      <td>0</td>\n",
       "      <td>0</td>\n",
       "      <td>0</td>\n",
       "      <td>0</td>\n",
       "      <td>...</td>\n",
       "      <td>0</td>\n",
       "      <td>0</td>\n",
       "      <td>0</td>\n",
       "      <td>0</td>\n",
       "      <td>0</td>\n",
       "      <td>0</td>\n",
       "      <td>0</td>\n",
       "      <td>0</td>\n",
       "      <td>0</td>\n",
       "      <td>0</td>\n",
       "    </tr>\n",
       "    <tr>\n",
       "      <th>2</th>\n",
       "      <td>7</td>\n",
       "      <td>0</td>\n",
       "      <td>0</td>\n",
       "      <td>0</td>\n",
       "      <td>0</td>\n",
       "      <td>0</td>\n",
       "      <td>0</td>\n",
       "      <td>0</td>\n",
       "      <td>0</td>\n",
       "      <td>0</td>\n",
       "      <td>...</td>\n",
       "      <td>0</td>\n",
       "      <td>0</td>\n",
       "      <td>0</td>\n",
       "      <td>0</td>\n",
       "      <td>0</td>\n",
       "      <td>0</td>\n",
       "      <td>0</td>\n",
       "      <td>0</td>\n",
       "      <td>0</td>\n",
       "      <td>0</td>\n",
       "    </tr>\n",
       "    <tr>\n",
       "      <th>3</th>\n",
       "      <td>9</td>\n",
       "      <td>0</td>\n",
       "      <td>0</td>\n",
       "      <td>0</td>\n",
       "      <td>0</td>\n",
       "      <td>0</td>\n",
       "      <td>0</td>\n",
       "      <td>0</td>\n",
       "      <td>0</td>\n",
       "      <td>0</td>\n",
       "      <td>...</td>\n",
       "      <td>0</td>\n",
       "      <td>0</td>\n",
       "      <td>0</td>\n",
       "      <td>0</td>\n",
       "      <td>0</td>\n",
       "      <td>0</td>\n",
       "      <td>0</td>\n",
       "      <td>0</td>\n",
       "      <td>0</td>\n",
       "      <td>0</td>\n",
       "    </tr>\n",
       "    <tr>\n",
       "      <th>4</th>\n",
       "      <td>5</td>\n",
       "      <td>0</td>\n",
       "      <td>0</td>\n",
       "      <td>0</td>\n",
       "      <td>0</td>\n",
       "      <td>0</td>\n",
       "      <td>0</td>\n",
       "      <td>0</td>\n",
       "      <td>0</td>\n",
       "      <td>0</td>\n",
       "      <td>...</td>\n",
       "      <td>0</td>\n",
       "      <td>0</td>\n",
       "      <td>0</td>\n",
       "      <td>0</td>\n",
       "      <td>0</td>\n",
       "      <td>0</td>\n",
       "      <td>0</td>\n",
       "      <td>0</td>\n",
       "      <td>0</td>\n",
       "      <td>0</td>\n",
       "    </tr>\n",
       "    <tr>\n",
       "      <th>...</th>\n",
       "      <td>...</td>\n",
       "      <td>...</td>\n",
       "      <td>...</td>\n",
       "      <td>...</td>\n",
       "      <td>...</td>\n",
       "      <td>...</td>\n",
       "      <td>...</td>\n",
       "      <td>...</td>\n",
       "      <td>...</td>\n",
       "      <td>...</td>\n",
       "      <td>...</td>\n",
       "      <td>...</td>\n",
       "      <td>...</td>\n",
       "      <td>...</td>\n",
       "      <td>...</td>\n",
       "      <td>...</td>\n",
       "      <td>...</td>\n",
       "      <td>...</td>\n",
       "      <td>...</td>\n",
       "      <td>...</td>\n",
       "      <td>...</td>\n",
       "    </tr>\n",
       "    <tr>\n",
       "      <th>19995</th>\n",
       "      <td>0</td>\n",
       "      <td>0</td>\n",
       "      <td>0</td>\n",
       "      <td>0</td>\n",
       "      <td>0</td>\n",
       "      <td>0</td>\n",
       "      <td>0</td>\n",
       "      <td>0</td>\n",
       "      <td>0</td>\n",
       "      <td>0</td>\n",
       "      <td>...</td>\n",
       "      <td>0</td>\n",
       "      <td>0</td>\n",
       "      <td>0</td>\n",
       "      <td>0</td>\n",
       "      <td>0</td>\n",
       "      <td>0</td>\n",
       "      <td>0</td>\n",
       "      <td>0</td>\n",
       "      <td>0</td>\n",
       "      <td>0</td>\n",
       "    </tr>\n",
       "    <tr>\n",
       "      <th>19996</th>\n",
       "      <td>1</td>\n",
       "      <td>0</td>\n",
       "      <td>0</td>\n",
       "      <td>0</td>\n",
       "      <td>0</td>\n",
       "      <td>0</td>\n",
       "      <td>0</td>\n",
       "      <td>0</td>\n",
       "      <td>0</td>\n",
       "      <td>0</td>\n",
       "      <td>...</td>\n",
       "      <td>0</td>\n",
       "      <td>0</td>\n",
       "      <td>0</td>\n",
       "      <td>0</td>\n",
       "      <td>0</td>\n",
       "      <td>0</td>\n",
       "      <td>0</td>\n",
       "      <td>0</td>\n",
       "      <td>0</td>\n",
       "      <td>0</td>\n",
       "    </tr>\n",
       "    <tr>\n",
       "      <th>19997</th>\n",
       "      <td>2</td>\n",
       "      <td>0</td>\n",
       "      <td>0</td>\n",
       "      <td>0</td>\n",
       "      <td>0</td>\n",
       "      <td>0</td>\n",
       "      <td>0</td>\n",
       "      <td>0</td>\n",
       "      <td>0</td>\n",
       "      <td>0</td>\n",
       "      <td>...</td>\n",
       "      <td>0</td>\n",
       "      <td>0</td>\n",
       "      <td>0</td>\n",
       "      <td>0</td>\n",
       "      <td>0</td>\n",
       "      <td>0</td>\n",
       "      <td>0</td>\n",
       "      <td>0</td>\n",
       "      <td>0</td>\n",
       "      <td>0</td>\n",
       "    </tr>\n",
       "    <tr>\n",
       "      <th>19998</th>\n",
       "      <td>9</td>\n",
       "      <td>0</td>\n",
       "      <td>0</td>\n",
       "      <td>0</td>\n",
       "      <td>0</td>\n",
       "      <td>0</td>\n",
       "      <td>0</td>\n",
       "      <td>0</td>\n",
       "      <td>0</td>\n",
       "      <td>0</td>\n",
       "      <td>...</td>\n",
       "      <td>0</td>\n",
       "      <td>0</td>\n",
       "      <td>0</td>\n",
       "      <td>0</td>\n",
       "      <td>0</td>\n",
       "      <td>0</td>\n",
       "      <td>0</td>\n",
       "      <td>0</td>\n",
       "      <td>0</td>\n",
       "      <td>0</td>\n",
       "    </tr>\n",
       "    <tr>\n",
       "      <th>19999</th>\n",
       "      <td>5</td>\n",
       "      <td>0</td>\n",
       "      <td>0</td>\n",
       "      <td>0</td>\n",
       "      <td>0</td>\n",
       "      <td>0</td>\n",
       "      <td>0</td>\n",
       "      <td>0</td>\n",
       "      <td>0</td>\n",
       "      <td>0</td>\n",
       "      <td>...</td>\n",
       "      <td>0</td>\n",
       "      <td>0</td>\n",
       "      <td>0</td>\n",
       "      <td>0</td>\n",
       "      <td>0</td>\n",
       "      <td>0</td>\n",
       "      <td>0</td>\n",
       "      <td>0</td>\n",
       "      <td>0</td>\n",
       "      <td>0</td>\n",
       "    </tr>\n",
       "  </tbody>\n",
       "</table>\n",
       "<p>20000 rows × 785 columns</p>\n",
       "</div>"
      ],
      "text/plain": [
       "       0    1    2    3    4    5    6    7    8    9    ...  775  776  777  \\\n",
       "0        6    0    0    0    0    0    0    0    0    0  ...    0    0    0   \n",
       "1        5    0    0    0    0    0    0    0    0    0  ...    0    0    0   \n",
       "2        7    0    0    0    0    0    0    0    0    0  ...    0    0    0   \n",
       "3        9    0    0    0    0    0    0    0    0    0  ...    0    0    0   \n",
       "4        5    0    0    0    0    0    0    0    0    0  ...    0    0    0   \n",
       "...    ...  ...  ...  ...  ...  ...  ...  ...  ...  ...  ...  ...  ...  ...   \n",
       "19995    0    0    0    0    0    0    0    0    0    0  ...    0    0    0   \n",
       "19996    1    0    0    0    0    0    0    0    0    0  ...    0    0    0   \n",
       "19997    2    0    0    0    0    0    0    0    0    0  ...    0    0    0   \n",
       "19998    9    0    0    0    0    0    0    0    0    0  ...    0    0    0   \n",
       "19999    5    0    0    0    0    0    0    0    0    0  ...    0    0    0   \n",
       "\n",
       "       778  779  780  781  782  783  784  \n",
       "0        0    0    0    0    0    0    0  \n",
       "1        0    0    0    0    0    0    0  \n",
       "2        0    0    0    0    0    0    0  \n",
       "3        0    0    0    0    0    0    0  \n",
       "4        0    0    0    0    0    0    0  \n",
       "...    ...  ...  ...  ...  ...  ...  ...  \n",
       "19995    0    0    0    0    0    0    0  \n",
       "19996    0    0    0    0    0    0    0  \n",
       "19997    0    0    0    0    0    0    0  \n",
       "19998    0    0    0    0    0    0    0  \n",
       "19999    0    0    0    0    0    0    0  \n",
       "\n",
       "[20000 rows x 785 columns]"
      ]
     },
     "execution_count": 4,
     "metadata": {},
     "output_type": "execute_result"
    }
   ],
   "source": [
    "# first, we load the data:\n",
    "\n",
    "data = pd.read_csv('mnist_train_small.csv', header=None)\n",
    "data"
   ]
  },
  {
   "cell_type": "markdown",
   "metadata": {},
   "source": [
    "#### Data preparation:\n",
    "\n",
    "Now, the first column are the labels, the remaining 784 columns are the pixel values. I have to:\n",
    "\n",
    "1) split the data in train and validation sets\n",
    "\n",
    "2) split validation sets into features and labels\n",
    "\n",
    "3) correctly format features intoa a 28x28 grid"
   ]
  },
  {
   "cell_type": "code",
   "execution_count": 5,
   "metadata": {},
   "outputs": [],
   "source": [
    "def data_prep(input_df,split=0.3,verbose=False):\n",
    "    rng = np.random.default_rng(seed=123)\n",
    "    data=np.array(input_df)\n",
    "    m,n=data.shape\n",
    "    rng.shuffle(data)\n",
    "    train_size=int(m*split)\n",
    "    x_val=data[:train_size,1:]#the last 784 columns of the first train_size rows are the training features\n",
    "    y_val=data[:train_size,0]\n",
    "    x_train=data[train_size:,1:]\n",
    "    y_train=data[train_size:,0]\n",
    "    x_train=(x_train.reshape(-1,28,28)/255.).astype('float32')\n",
    "    x_val=(x_val.reshape(-1,28,28)/255.).astype('float32')\n",
    "    if verbose:\n",
    "        print(x_train.shape)\n",
    "    y_train = tf.keras.utils.to_categorical(y_train)\n",
    "    y_val = tf.keras.utils.to_categorical(y_val)\n",
    "    return x_train,y_train,x_val,y_val"
   ]
  },
  {
   "cell_type": "code",
   "execution_count": 6,
   "metadata": {},
   "outputs": [
    {
     "name": "stdout",
     "output_type": "stream",
     "text": [
      "(14000, 28, 28)\n"
     ]
    }
   ],
   "source": [
    "x_train, y_train, x_val, y_val= data_prep(data, verbose=True)"
   ]
  },
  {
   "cell_type": "code",
   "execution_count": 7,
   "metadata": {},
   "outputs": [],
   "source": [
    "#x_train = tf.expand_dims(x_train, axis=-1)\n",
    "#x_val = tf.expand_dims(x_val, axis=-1)\n",
    "x_train = x_train.reshape(-1, 28, 28, 1)\n",
    "x_val = x_val.reshape(-1, 28, 28, 1)"
   ]
  },
  {
   "cell_type": "markdown",
   "metadata": {},
   "source": [
    "#### Now I have the data prepared, I can construct a CNN and feed data to it:"
   ]
  },
  {
   "cell_type": "code",
   "execution_count": 8,
   "metadata": {},
   "outputs": [],
   "source": [
    "def create_model():\n",
    "    '''simple convolutional neural network'''\n",
    "    model=tf.keras.models.Sequential(name='CNN_MNIST')\n",
    "    model.add(tf.keras.layers.Conv2D(10,4,strides=(1,1), activation='relu',input_shape=(28,28,1,),name='Conv1'))\n",
    "    model.add(tf.keras.layers.MaxPooling2D(pool_size=(2,2)))\n",
    "    model.add(tf.keras.layers.Conv2D(10,2,activation='relu',))\n",
    "    print(model.output_shape)\n",
    "    model.add(tf.keras.layers.Dropout(0.2))\n",
    "    model.add(tf.keras.layers.Flatten())\n",
    "    model.add(tf.keras.layers.Dense(units=100,activation='relu'))\n",
    "    model.add(tf.keras.layers.Dropout(0.2))\n",
    "    model.add(tf.keras.layers.Dense(units=100,activation='relu'))\n",
    "    model.add(tf.keras.layers.Dense(units=10,activation='softmax'))\n",
    "    model.compile(loss='categorical_crossentropy',optimizer='adam',metrics=['accuracy'])\n",
    "    print(model.output_shape)\n",
    "    return model"
   ]
  },
  {
   "cell_type": "code",
   "execution_count": 9,
   "metadata": {},
   "outputs": [],
   "source": [
    "def visualize_example(x,y,index):\n",
    "    #img=np.reshape(x[index],(28,28))\n",
    "    img=x[index]*255.\n",
    "    label=np.argmax(y[index])\n",
    "    print('Example number: ', index, '\\nLabel: ' , label)\n",
    "    plt.gray()\n",
    "    plt.imshow(img, interpolation='nearest')\n",
    "    plt.show()\n"
   ]
  },
  {
   "cell_type": "code",
   "execution_count": 10,
   "metadata": {},
   "outputs": [],
   "source": [
    "def test_model(model,x,y,ind,show_probability=False):\n",
    "    example=x[None,ind]\n",
    "    if show_probability:\n",
    "        print(model(example))\n",
    "    prediction=np.argmax(model.predict(example))\n",
    "    print('Prediction: ', prediction)\n",
    "    visualize_example(x,y,ind)\n"
   ]
  },
  {
   "cell_type": "code",
   "execution_count": 11,
   "metadata": {},
   "outputs": [
    {
     "name": "stdout",
     "output_type": "stream",
     "text": [
      "(None, 11, 11, 10)\n",
      "(None, 10)\n",
      "Model: \"CNN_MNIST\"\n",
      "_________________________________________________________________\n",
      " Layer (type)                Output Shape              Param #   \n",
      "=================================================================\n",
      " Conv1 (Conv2D)              (None, 25, 25, 10)        170       \n",
      "                                                                 \n",
      " max_pooling2d (MaxPooling2D  (None, 12, 12, 10)       0         \n",
      " )                                                               \n",
      "                                                                 \n",
      " conv2d (Conv2D)             (None, 11, 11, 10)        410       \n",
      "                                                                 \n",
      " dropout (Dropout)           (None, 11, 11, 10)        0         \n",
      "                                                                 \n",
      " flatten (Flatten)           (None, 1210)              0         \n",
      "                                                                 \n",
      " dense (Dense)               (None, 100)               121100    \n",
      "                                                                 \n",
      " dropout_1 (Dropout)         (None, 100)               0         \n",
      "                                                                 \n",
      " dense_1 (Dense)             (None, 100)               10100     \n",
      "                                                                 \n",
      " dense_2 (Dense)             (None, 10)                1010      \n",
      "                                                                 \n",
      "=================================================================\n",
      "Total params: 132,790\n",
      "Trainable params: 132,790\n",
      "Non-trainable params: 0\n",
      "_________________________________________________________________\n",
      "None\n"
     ]
    }
   ],
   "source": [
    "model=create_model()\n",
    "print(model.summary())"
   ]
  },
  {
   "cell_type": "code",
   "execution_count": 12,
   "metadata": {},
   "outputs": [
    {
     "data": {
      "text/plain": [
       "(14000, 28, 28, 1)"
      ]
     },
     "execution_count": 12,
     "metadata": {},
     "output_type": "execute_result"
    }
   ],
   "source": [
    "x_train.shape"
   ]
  },
  {
   "cell_type": "code",
   "execution_count": 13,
   "metadata": {},
   "outputs": [
    {
     "name": "stdout",
     "output_type": "stream",
     "text": [
      "Epoch 1/10\n",
      "467/467 [==============================] - 9s 9ms/step - loss: 0.5055 - accuracy: 0.8471 - val_loss: 0.1799 - val_accuracy: 0.9443\n",
      "Epoch 2/10\n",
      "467/467 [==============================] - 4s 9ms/step - loss: 0.1747 - accuracy: 0.9476 - val_loss: 0.1262 - val_accuracy: 0.9588\n",
      "Epoch 3/10\n",
      "467/467 [==============================] - 5s 11ms/step - loss: 0.1195 - accuracy: 0.9629 - val_loss: 0.0949 - val_accuracy: 0.9703\n",
      "Epoch 4/10\n",
      "467/467 [==============================] - 4s 9ms/step - loss: 0.0928 - accuracy: 0.9694 - val_loss: 0.0885 - val_accuracy: 0.9718\n",
      "Epoch 5/10\n",
      "467/467 [==============================] - 4s 9ms/step - loss: 0.0804 - accuracy: 0.9726 - val_loss: 0.0769 - val_accuracy: 0.9765\n",
      "Epoch 6/10\n",
      "467/467 [==============================] - 4s 9ms/step - loss: 0.0652 - accuracy: 0.9788 - val_loss: 0.0764 - val_accuracy: 0.9755\n",
      "Epoch 7/10\n",
      "467/467 [==============================] - 5s 10ms/step - loss: 0.0532 - accuracy: 0.9829 - val_loss: 0.0777 - val_accuracy: 0.9773\n",
      "Epoch 8/10\n",
      "467/467 [==============================] - 4s 9ms/step - loss: 0.0452 - accuracy: 0.9857 - val_loss: 0.0842 - val_accuracy: 0.9760\n",
      "Epoch 9/10\n",
      "467/467 [==============================] - 4s 9ms/step - loss: 0.0471 - accuracy: 0.9835 - val_loss: 0.0711 - val_accuracy: 0.9808\n",
      "Epoch 10/10\n",
      "467/467 [==============================] - 4s 9ms/step - loss: 0.0396 - accuracy: 0.9855 - val_loss: 0.0822 - val_accuracy: 0.9765\n"
     ]
    }
   ],
   "source": [
    "history = model.fit(x_train, y_train,batch_size=30, epochs=10, validation_data=(x_val, y_val))"
   ]
  },
  {
   "cell_type": "code",
   "execution_count": 14,
   "metadata": {},
   "outputs": [
    {
     "name": "stdout",
     "output_type": "stream",
     "text": [
      "1/1 [==============================] - 0s 194ms/step\n"
     ]
    },
    {
     "data": {
      "text/plain": [
       "array([[2.2663869e-10, 6.6601700e-08, 7.7939532e-13, 4.9841331e-10,\n",
       "        1.9723612e-09, 9.9999475e-01, 3.4493954e-09, 1.0763741e-10,\n",
       "        1.8011227e-07, 4.9525115e-06]], dtype=float32)"
      ]
     },
     "execution_count": 14,
     "metadata": {},
     "output_type": "execute_result"
    }
   ],
   "source": [
    "model.predict(x_train[None,np.random.randint(0,4000)])"
   ]
  },
  {
   "cell_type": "code",
   "execution_count": 15,
   "metadata": {},
   "outputs": [
    {
     "name": "stdout",
     "output_type": "stream",
     "text": [
      "tf.Tensor(\n",
      "[[4.7646069e-09 3.8239296e-09 2.0290530e-10 5.5787512e-03 5.5884540e-11\n",
      "  9.9440938e-01 1.9184399e-06 4.0531511e-09 2.6320012e-07 9.6432796e-06]], shape=(1, 10), dtype=float32)\n",
      "1/1 [==============================] - 0s 25ms/step\n",
      "Prediction:  5\n",
      "Example number:  1902 \n",
      "Label:  5\n"
     ]
    },
    {
     "data": {
      "image/png": "[encoded data removed]",
      "text/plain": [
       "<Figure size 432x288 with 1 Axes>"
      ]
     },
     "metadata": {
      "needs_background": "light"
     },
     "output_type": "display_data"
    }
   ],
   "source": [
    "test_model(model,x_val,y_val,np.random.randint(0,4000),show_probability=True)"
   ]
  },
  {
   "cell_type": "code",
   "execution_count": 16,
   "metadata": {},
   "outputs": [],
   "source": [
    "# Save the trained model\n",
    "savemodel=False\n",
    "modelFileName = 'models/mnistNNv1.h5'\n",
    "if savemodel:\n",
    "    model.save(modelFileName)\n",
    "    #del model  # deletes the existing model variable\n",
    "    print('model saved as', modelFileName)"
   ]
  },
  {
   "cell_type": "markdown",
   "metadata": {},
   "source": [
    "Next: obtain confusion matrix"
   ]
  },
  {
   "cell_type": "code",
   "execution_count": 17,
   "metadata": {},
   "outputs": [],
   "source": [
    "model = tf.keras.models.load_model(modelFileName)\n"
   ]
  },
  {
   "cell_type": "code",
   "execution_count": 19,
   "metadata": {},
   "outputs": [
    {
     "name": "stderr",
     "output_type": "stream",
     "text": [
      "c:\\Users\\Alessandro\\anaconda3\\envs\\tfgpu\\lib\\site-packages\\scipy\\__init__.py:146: UserWarning: A NumPy version >=1.16.5 and <1.23.0 is required for this version of SciPy (detected version 1.23.4\n",
      "  warnings.warn(f\"A NumPy version >={np_minversion} and <{np_maxversion}\"\n"
     ]
    },
    {
     "name": "stdout",
     "output_type": "stream",
     "text": [
      "188/188 [==============================] - 1s 3ms/step\n"
     ]
    },
    {
     "data": {
      "image/png": "[encoded data removed]",
      "text/plain": [
       "<Figure size 432x288 with 2 Axes>"
      ]
     },
     "metadata": {
      "needs_background": "light"
     },
     "output_type": "display_data"
    },
    {
     "name": "stdout",
     "output_type": "stream",
     "text": [
      "              precision    recall  f1-score   support\n",
      "\n",
      "           0      0.979     0.993     0.986       576\n",
      "           1      0.980     0.993     0.986       691\n",
      "           2      0.986     0.978     0.982       583\n",
      "           3      0.995     0.967     0.981       612\n",
      "           4      0.967     0.987     0.977       597\n",
      "           5      0.981     0.985     0.983       529\n",
      "           6      0.981     0.997     0.989       633\n",
      "           7      0.977     0.989     0.983       634\n",
      "           8      0.986     0.963     0.974       573\n",
      "           9      0.980     0.956     0.968       572\n",
      "\n",
      "    accuracy                          0.981      6000\n",
      "   macro avg      0.981     0.981     0.981      6000\n",
      "weighted avg      0.981     0.981     0.981      6000\n",
      "\n"
     ]
    }
   ],
   "source": [
    "# Tensorflow doesn't have a built-in confusion matrix metric, so we'll use SciKit-Learn\n",
    "#import numpy as np\n",
    "from sklearn.metrics import confusion_matrix\n",
    "from sklearn.metrics import classification_report\n",
    "#import matplotlib.pyplot as plt\n",
    "%matplotlib inline\n",
    "\n",
    "\n",
    "class_probabilities = model.predict(x_val)\n",
    "predictions = np.argmax(class_probabilities, axis=1)\n",
    "true_labels = np.argmax(y_val,axis=1)\n",
    "\n",
    "# Plot the confusion matrix\n",
    "cm = confusion_matrix(true_labels, predictions)\n",
    "plt.imshow(cm, interpolation=\"nearest\", cmap=plt.cm.Blues)\n",
    "plt.colorbar()\n",
    "tick_marks = np.arange(10)\n",
    "plt.xticks(tick_marks, tick_marks, rotation=0)\n",
    "plt.yticks(tick_marks, tick_marks)\n",
    "plt.xlabel(\"Predicted Number\")\n",
    "plt.ylabel(\"Actual Number\")\n",
    "plt.show()\n",
    "#print(cm)\n",
    "print(classification_report(true_labels,predictions,digits=3))"
   ]
  },
  {
   "cell_type": "code",
   "execution_count": null,
   "metadata": {},
   "outputs": [],
   "source": []
  }
 ],
 "metadata": {
  "kernelspec": {
   "display_name": "Python 3.8.8 ('base')",
   "language": "python",
   "name": "python3"
  },
  "language_info": {
   "codemirror_mode": {
    "name": "ipython",
    "version": 3
   },
   "file_extension": ".py",
   "mimetype": "text/x-python",
   "name": "python",
   "nbconvert_exporter": "python",
   "pygments_lexer": "ipython3",
   "version": "3.8.8"
  },
  "orig_nbformat": 4,
  "vscode": {
   "interpreter": {
    "hash": "68b83d36125722a4cfa54faf6473e9cfaf94e2e30a32ae0e02287cb9789563ab"
   }
  }
 },
 "nbformat": 4,
 "nbformat_minor": 2
}
