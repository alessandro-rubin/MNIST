{
 "cells": [
  {
   "cell_type": "markdown",
   "metadata": {},
   "source": [
    "# labeling MNIST data with a convolutional neural network\n",
    "\n"
   ]
  },
  {
   "cell_type": "code",
   "execution_count": 1,
   "metadata": {},
   "outputs": [
    {
     "name": "stderr",
     "output_type": "stream",
     "text": [
      "c:\\Users\\Alessandro\\anaconda3\\envs\\tfgpu\\lib\\site-packages\\scipy\\__init__.py:146: UserWarning: A NumPy version >=1.16.5 and <1.23.0 is required for this version of SciPy (detected version 1.23.4\n",
      "  warnings.warn(f\"A NumPy version >={np_minversion} and <{np_maxversion}\"\n"
     ]
    }
   ],
   "source": [
    "import pandas as pd\n",
    "import numpy as np\n",
    "import matplotlib.pyplot as plt\n",
    "import tensorflow as tf"
   ]
  },
  {
   "cell_type": "code",
   "execution_count": 2,
   "metadata": {},
   "outputs": [
    {
     "name": "stdout",
     "output_type": "stream",
     "text": [
      "TensorFlow version: 2.10.0\n",
      "Keras version: 2.10.0\n"
     ]
    }
   ],
   "source": [
    "print('TensorFlow version:',tf.__version__)\n",
    "print('Keras version:',tf.keras.__version__)"
   ]
  },
  {
   "cell_type": "code",
   "execution_count": 3,
   "metadata": {},
   "outputs": [
    {
     "name": "stdout",
     "output_type": "stream",
     "text": [
      "c:\\Users\\Alessandro\\anaconda3\\envs\\tfgpu\\lib\\site-packages\\tensorflow\\__init__.py\n",
      "c:\\Users\\Alessandro\\anaconda3\\envs\\tfgpu\\lib\\site-packages\\keras\\api\\_v2\\keras\\__init__.py\n"
     ]
    }
   ],
   "source": [
    "print(tf.__file__)\n",
    "print(tf.keras.__file__)"
   ]
  },
  {
   "cell_type": "code",
   "execution_count": 4,
   "metadata": {},
   "outputs": [
    {
     "data": {
      "text/html": [
       "<div>\n",
       "<style scoped>\n",
       "    .dataframe tbody tr th:only-of-type {\n",
       "        vertical-align: middle;\n",
       "    }\n",
       "\n",
       "    .dataframe tbody tr th {\n",
       "        vertical-align: top;\n",
       "    }\n",
       "\n",
       "    .dataframe thead th {\n",
       "        text-align: right;\n",
       "    }\n",
       "</style>\n",
       "<table border=\"1\" class=\"dataframe\">\n",
       "  <thead>\n",
       "    <tr style=\"text-align: right;\">\n",
       "      <th></th>\n",
       "      <th>label</th>\n",
       "      <th>pixel0</th>\n",
       "      <th>pixel1</th>\n",
       "      <th>pixel2</th>\n",
       "      <th>pixel3</th>\n",
       "      <th>pixel4</th>\n",
       "      <th>pixel5</th>\n",
       "      <th>pixel6</th>\n",
       "      <th>pixel7</th>\n",
       "      <th>pixel8</th>\n",
       "      <th>...</th>\n",
       "      <th>pixel774</th>\n",
       "      <th>pixel775</th>\n",
       "      <th>pixel776</th>\n",
       "      <th>pixel777</th>\n",
       "      <th>pixel778</th>\n",
       "      <th>pixel779</th>\n",
       "      <th>pixel780</th>\n",
       "      <th>pixel781</th>\n",
       "      <th>pixel782</th>\n",
       "      <th>pixel783</th>\n",
       "    </tr>\n",
       "  </thead>\n",
       "  <tbody>\n",
       "    <tr>\n",
       "      <th>0</th>\n",
       "      <td>1</td>\n",
       "      <td>0</td>\n",
       "      <td>0</td>\n",
       "      <td>0</td>\n",
       "      <td>0</td>\n",
       "      <td>0</td>\n",
       "      <td>0</td>\n",
       "      <td>0</td>\n",
       "      <td>0</td>\n",
       "      <td>0</td>\n",
       "      <td>...</td>\n",
       "      <td>0</td>\n",
       "      <td>0</td>\n",
       "      <td>0</td>\n",
       "      <td>0</td>\n",
       "      <td>0</td>\n",
       "      <td>0</td>\n",
       "      <td>0</td>\n",
       "      <td>0</td>\n",
       "      <td>0</td>\n",
       "      <td>0</td>\n",
       "    </tr>\n",
       "    <tr>\n",
       "      <th>1</th>\n",
       "      <td>0</td>\n",
       "      <td>0</td>\n",
       "      <td>0</td>\n",
       "      <td>0</td>\n",
       "      <td>0</td>\n",
       "      <td>0</td>\n",
       "      <td>0</td>\n",
       "      <td>0</td>\n",
       "      <td>0</td>\n",
       "      <td>0</td>\n",
       "      <td>...</td>\n",
       "      <td>0</td>\n",
       "      <td>0</td>\n",
       "      <td>0</td>\n",
       "      <td>0</td>\n",
       "      <td>0</td>\n",
       "      <td>0</td>\n",
       "      <td>0</td>\n",
       "      <td>0</td>\n",
       "      <td>0</td>\n",
       "      <td>0</td>\n",
       "    </tr>\n",
       "    <tr>\n",
       "      <th>2</th>\n",
       "      <td>1</td>\n",
       "      <td>0</td>\n",
       "      <td>0</td>\n",
       "      <td>0</td>\n",
       "      <td>0</td>\n",
       "      <td>0</td>\n",
       "      <td>0</td>\n",
       "      <td>0</td>\n",
       "      <td>0</td>\n",
       "      <td>0</td>\n",
       "      <td>...</td>\n",
       "      <td>0</td>\n",
       "      <td>0</td>\n",
       "      <td>0</td>\n",
       "      <td>0</td>\n",
       "      <td>0</td>\n",
       "      <td>0</td>\n",
       "      <td>0</td>\n",
       "      <td>0</td>\n",
       "      <td>0</td>\n",
       "      <td>0</td>\n",
       "    </tr>\n",
       "    <tr>\n",
       "      <th>3</th>\n",
       "      <td>4</td>\n",
       "      <td>0</td>\n",
       "      <td>0</td>\n",
       "      <td>0</td>\n",
       "      <td>0</td>\n",
       "      <td>0</td>\n",
       "      <td>0</td>\n",
       "      <td>0</td>\n",
       "      <td>0</td>\n",
       "      <td>0</td>\n",
       "      <td>...</td>\n",
       "      <td>0</td>\n",
       "      <td>0</td>\n",
       "      <td>0</td>\n",
       "      <td>0</td>\n",
       "      <td>0</td>\n",
       "      <td>0</td>\n",
       "      <td>0</td>\n",
       "      <td>0</td>\n",
       "      <td>0</td>\n",
       "      <td>0</td>\n",
       "    </tr>\n",
       "    <tr>\n",
       "      <th>4</th>\n",
       "      <td>0</td>\n",
       "      <td>0</td>\n",
       "      <td>0</td>\n",
       "      <td>0</td>\n",
       "      <td>0</td>\n",
       "      <td>0</td>\n",
       "      <td>0</td>\n",
       "      <td>0</td>\n",
       "      <td>0</td>\n",
       "      <td>0</td>\n",
       "      <td>...</td>\n",
       "      <td>0</td>\n",
       "      <td>0</td>\n",
       "      <td>0</td>\n",
       "      <td>0</td>\n",
       "      <td>0</td>\n",
       "      <td>0</td>\n",
       "      <td>0</td>\n",
       "      <td>0</td>\n",
       "      <td>0</td>\n",
       "      <td>0</td>\n",
       "    </tr>\n",
       "    <tr>\n",
       "      <th>...</th>\n",
       "      <td>...</td>\n",
       "      <td>...</td>\n",
       "      <td>...</td>\n",
       "      <td>...</td>\n",
       "      <td>...</td>\n",
       "      <td>...</td>\n",
       "      <td>...</td>\n",
       "      <td>...</td>\n",
       "      <td>...</td>\n",
       "      <td>...</td>\n",
       "      <td>...</td>\n",
       "      <td>...</td>\n",
       "      <td>...</td>\n",
       "      <td>...</td>\n",
       "      <td>...</td>\n",
       "      <td>...</td>\n",
       "      <td>...</td>\n",
       "      <td>...</td>\n",
       "      <td>...</td>\n",
       "      <td>...</td>\n",
       "      <td>...</td>\n",
       "    </tr>\n",
       "    <tr>\n",
       "      <th>41995</th>\n",
       "      <td>0</td>\n",
       "      <td>0</td>\n",
       "      <td>0</td>\n",
       "      <td>0</td>\n",
       "      <td>0</td>\n",
       "      <td>0</td>\n",
       "      <td>0</td>\n",
       "      <td>0</td>\n",
       "      <td>0</td>\n",
       "      <td>0</td>\n",
       "      <td>...</td>\n",
       "      <td>0</td>\n",
       "      <td>0</td>\n",
       "      <td>0</td>\n",
       "      <td>0</td>\n",
       "      <td>0</td>\n",
       "      <td>0</td>\n",
       "      <td>0</td>\n",
       "      <td>0</td>\n",
       "      <td>0</td>\n",
       "      <td>0</td>\n",
       "    </tr>\n",
       "    <tr>\n",
       "      <th>41996</th>\n",
       "      <td>1</td>\n",
       "      <td>0</td>\n",
       "      <td>0</td>\n",
       "      <td>0</td>\n",
       "      <td>0</td>\n",
       "      <td>0</td>\n",
       "      <td>0</td>\n",
       "      <td>0</td>\n",
       "      <td>0</td>\n",
       "      <td>0</td>\n",
       "      <td>...</td>\n",
       "      <td>0</td>\n",
       "      <td>0</td>\n",
       "      <td>0</td>\n",
       "      <td>0</td>\n",
       "      <td>0</td>\n",
       "      <td>0</td>\n",
       "      <td>0</td>\n",
       "      <td>0</td>\n",
       "      <td>0</td>\n",
       "      <td>0</td>\n",
       "    </tr>\n",
       "    <tr>\n",
       "      <th>41997</th>\n",
       "      <td>7</td>\n",
       "      <td>0</td>\n",
       "      <td>0</td>\n",
       "      <td>0</td>\n",
       "      <td>0</td>\n",
       "      <td>0</td>\n",
       "      <td>0</td>\n",
       "      <td>0</td>\n",
       "      <td>0</td>\n",
       "      <td>0</td>\n",
       "      <td>...</td>\n",
       "      <td>0</td>\n",
       "      <td>0</td>\n",
       "      <td>0</td>\n",
       "      <td>0</td>\n",
       "      <td>0</td>\n",
       "      <td>0</td>\n",
       "      <td>0</td>\n",
       "      <td>0</td>\n",
       "      <td>0</td>\n",
       "      <td>0</td>\n",
       "    </tr>\n",
       "    <tr>\n",
       "      <th>41998</th>\n",
       "      <td>6</td>\n",
       "      <td>0</td>\n",
       "      <td>0</td>\n",
       "      <td>0</td>\n",
       "      <td>0</td>\n",
       "      <td>0</td>\n",
       "      <td>0</td>\n",
       "      <td>0</td>\n",
       "      <td>0</td>\n",
       "      <td>0</td>\n",
       "      <td>...</td>\n",
       "      <td>0</td>\n",
       "      <td>0</td>\n",
       "      <td>0</td>\n",
       "      <td>0</td>\n",
       "      <td>0</td>\n",
       "      <td>0</td>\n",
       "      <td>0</td>\n",
       "      <td>0</td>\n",
       "      <td>0</td>\n",
       "      <td>0</td>\n",
       "    </tr>\n",
       "    <tr>\n",
       "      <th>41999</th>\n",
       "      <td>9</td>\n",
       "      <td>0</td>\n",
       "      <td>0</td>\n",
       "      <td>0</td>\n",
       "      <td>0</td>\n",
       "      <td>0</td>\n",
       "      <td>0</td>\n",
       "      <td>0</td>\n",
       "      <td>0</td>\n",
       "      <td>0</td>\n",
       "      <td>...</td>\n",
       "      <td>0</td>\n",
       "      <td>0</td>\n",
       "      <td>0</td>\n",
       "      <td>0</td>\n",
       "      <td>0</td>\n",
       "      <td>0</td>\n",
       "      <td>0</td>\n",
       "      <td>0</td>\n",
       "      <td>0</td>\n",
       "      <td>0</td>\n",
       "    </tr>\n",
       "  </tbody>\n",
       "</table>\n",
       "<p>42000 rows × 785 columns</p>\n",
       "</div>"
      ],
      "text/plain": [
       "       label  pixel0  pixel1  pixel2  pixel3  pixel4  pixel5  pixel6  pixel7  \\\n",
       "0          1       0       0       0       0       0       0       0       0   \n",
       "1          0       0       0       0       0       0       0       0       0   \n",
       "2          1       0       0       0       0       0       0       0       0   \n",
       "3          4       0       0       0       0       0       0       0       0   \n",
       "4          0       0       0       0       0       0       0       0       0   \n",
       "...      ...     ...     ...     ...     ...     ...     ...     ...     ...   \n",
       "41995      0       0       0       0       0       0       0       0       0   \n",
       "41996      1       0       0       0       0       0       0       0       0   \n",
       "41997      7       0       0       0       0       0       0       0       0   \n",
       "41998      6       0       0       0       0       0       0       0       0   \n",
       "41999      9       0       0       0       0       0       0       0       0   \n",
       "\n",
       "       pixel8  ...  pixel774  pixel775  pixel776  pixel777  pixel778  \\\n",
       "0           0  ...         0         0         0         0         0   \n",
       "1           0  ...         0         0         0         0         0   \n",
       "2           0  ...         0         0         0         0         0   \n",
       "3           0  ...         0         0         0         0         0   \n",
       "4           0  ...         0         0         0         0         0   \n",
       "...       ...  ...       ...       ...       ...       ...       ...   \n",
       "41995       0  ...         0         0         0         0         0   \n",
       "41996       0  ...         0         0         0         0         0   \n",
       "41997       0  ...         0         0         0         0         0   \n",
       "41998       0  ...         0         0         0         0         0   \n",
       "41999       0  ...         0         0         0         0         0   \n",
       "\n",
       "       pixel779  pixel780  pixel781  pixel782  pixel783  \n",
       "0             0         0         0         0         0  \n",
       "1             0         0         0         0         0  \n",
       "2             0         0         0         0         0  \n",
       "3             0         0         0         0         0  \n",
       "4             0         0         0         0         0  \n",
       "...         ...       ...       ...       ...       ...  \n",
       "41995         0         0         0         0         0  \n",
       "41996         0         0         0         0         0  \n",
       "41997         0         0         0         0         0  \n",
       "41998         0         0         0         0         0  \n",
       "41999         0         0         0         0         0  \n",
       "\n",
       "[42000 rows x 785 columns]"
      ]
     },
     "execution_count": 4,
     "metadata": {},
     "output_type": "execute_result"
    }
   ],
   "source": [
    "# first, we load the data:\n",
    "\n",
    "data = pd.read_csv('digit-recognizer/train.csv')\n",
    "data"
   ]
  },
  {
   "cell_type": "markdown",
   "metadata": {},
   "source": [
    "#### Data preparation:\n",
    "\n",
    "Now, the first column are the labels, the remaining 784 columns are the pixel values. I have to:\n",
    "\n",
    "1) split the data in train and validation sets\n",
    "\n",
    "2) split validation sets into features and labels\n",
    "\n",
    "3) correctly format features intoa a 28x28 grid"
   ]
  },
  {
   "cell_type": "code",
   "execution_count": 5,
   "metadata": {},
   "outputs": [],
   "source": [
    "def data_prep(input_df,verbose=False):\n",
    "    rng = np.random.default_rng(seed=123)\n",
    "    data=np.array(input_df)\n",
    "    m,n=data.shape\n",
    "    rng.shuffle(data)\n",
    "    #train_size=int(m*split)\n",
    "    #x_val=data[:train_size,1:]#the last 784 columns of the first train_size rows are the training features\n",
    "    #y_val=data[:train_size,0]\n",
    "    x_train=data[:,1:]\n",
    "    y_train=data[:,0]\n",
    "    x_train=(x_train.reshape(-1,28,28)/255.).astype('float32')\n",
    "    #x_val=(x_val.reshape(-1,28,28)/255.).astype('float32')\n",
    "    if verbose:\n",
    "        print(x_train.shape)\n",
    "    y_train = tf.keras.utils.to_categorical(y_train)\n",
    "    #y_val = tf.keras.utils.to_categorical(y_val)\n",
    "    return x_train,y_train"
   ]
  },
  {
   "cell_type": "code",
   "execution_count": 6,
   "metadata": {},
   "outputs": [
    {
     "name": "stdout",
     "output_type": "stream",
     "text": [
      "(42000, 28, 28)\n"
     ]
    }
   ],
   "source": [
    "x_train, y_train= data_prep(data, verbose=True)"
   ]
  },
  {
   "cell_type": "code",
   "execution_count": 7,
   "metadata": {},
   "outputs": [],
   "source": [
    "#x_train = tf.expand_dims(x_train, axis=-1)\n",
    "#x_val = tf.expand_dims(x_val, axis=-1)\n",
    "x_train = x_train.reshape(-1, 28, 28, 1)\n",
    "#x_val = x_val.reshape(-1, 28, 28, 1)"
   ]
  },
  {
   "cell_type": "code",
   "execution_count": 9,
   "metadata": {},
   "outputs": [],
   "source": [
    "x_train=tf.convert_to_tensor(x_train)\n",
    "y_train=tf.convert_to_tensor(y_train)"
   ]
  },
  {
   "cell_type": "markdown",
   "metadata": {},
   "source": [
    "#### Now I have the data prepared, I can construct a CNN and feed data to it:"
   ]
  },
  {
   "cell_type": "code",
   "execution_count": 10,
   "metadata": {},
   "outputs": [],
   "source": [
    "def create_model():\n",
    "    '''simple convolutional neural network'''\n",
    "    model=tf.keras.models.Sequential(name='CNN_MNIST')\n",
    "    model.add(tf.keras.layers.Conv2D(10,4,strides=(1,1), activation='relu',input_shape=(28,28,1,),name='Conv1'))\n",
    "    model.add(tf.keras.layers.MaxPooling2D(pool_size=(2,2)))\n",
    "    model.add(tf.keras.layers.Conv2D(10,2,activation='relu',))\n",
    "    print(model.output_shape)\n",
    "    model.add(tf.keras.layers.Dropout(0.2))\n",
    "    model.add(tf.keras.layers.Flatten())\n",
    "    model.add(tf.keras.layers.Dense(units=100,activation='relu'))\n",
    "    model.add(tf.keras.layers.Dropout(0.2))\n",
    "    model.add(tf.keras.layers.Dense(units=100,activation='relu'))\n",
    "    model.add(tf.keras.layers.Dense(units=10,activation='softmax'))\n",
    "    model.compile(loss='categorical_crossentropy',optimizer='adam',metrics=['accuracy'])\n",
    "    print(model.output_shape)\n",
    "    return model"
   ]
  },
  {
   "cell_type": "code",
   "execution_count": 12,
   "metadata": {},
   "outputs": [],
   "source": [
    "def visualize_example(x,y,index):\n",
    "    #img=np.reshape(x[index],(28,28))\n",
    "    img=x[index]*255.\n",
    "    label=np.argmax(y[index])\n",
    "    print('Example number: ', index, '\\nLabel: ' , label)\n",
    "    plt.gray()\n",
    "    plt.imshow(img, interpolation='nearest')\n",
    "    plt.show()\n"
   ]
  },
  {
   "cell_type": "code",
   "execution_count": 13,
   "metadata": {},
   "outputs": [],
   "source": [
    "def test_model(model,x,y,ind,show_probability=False):\n",
    "    example=x[None,ind]\n",
    "    if show_probability:\n",
    "        print(model(example))\n",
    "    prediction=np.argmax(model.predict(example))\n",
    "    print('Prediction: ', prediction)\n",
    "    visualize_example(x,y,ind)\n"
   ]
  },
  {
   "cell_type": "code",
   "execution_count": 14,
   "metadata": {},
   "outputs": [
    {
     "name": "stdout",
     "output_type": "stream",
     "text": [
      "(None, 11, 11, 10)\n",
      "(None, 10)\n",
      "Model: \"CNN_MNIST\"\n",
      "_________________________________________________________________\n",
      " Layer (type)                Output Shape              Param #   \n",
      "=================================================================\n",
      " Conv1 (Conv2D)              (None, 25, 25, 10)        170       \n",
      "                                                                 \n",
      " max_pooling2d (MaxPooling2D  (None, 12, 12, 10)       0         \n",
      " )                                                               \n",
      "                                                                 \n",
      " conv2d (Conv2D)             (None, 11, 11, 10)        410       \n",
      "                                                                 \n",
      " dropout (Dropout)           (None, 11, 11, 10)        0         \n",
      "                                                                 \n",
      " flatten (Flatten)           (None, 1210)              0         \n",
      "                                                                 \n",
      " dense (Dense)               (None, 100)               121100    \n",
      "                                                                 \n",
      " dropout_1 (Dropout)         (None, 100)               0         \n",
      "                                                                 \n",
      " dense_1 (Dense)             (None, 100)               10100     \n",
      "                                                                 \n",
      " dense_2 (Dense)             (None, 10)                1010      \n",
      "                                                                 \n",
      "=================================================================\n",
      "Total params: 132,790\n",
      "Trainable params: 132,790\n",
      "Non-trainable params: 0\n",
      "_________________________________________________________________\n",
      "None\n"
     ]
    }
   ],
   "source": [
    "model=create_model()\n",
    "print(model.summary())"
   ]
  },
  {
   "cell_type": "code",
   "execution_count": 15,
   "metadata": {},
   "outputs": [
    {
     "data": {
      "text/plain": [
       "TensorShape([42000, 28, 28, 1])"
      ]
     },
     "execution_count": 15,
     "metadata": {},
     "output_type": "execute_result"
    }
   ],
   "source": [
    "x_train.shape#(42000, 28, 28,1)"
   ]
  },
  {
   "cell_type": "code",
   "execution_count": 16,
   "metadata": {},
   "outputs": [
    {
     "name": "stdout",
     "output_type": "stream",
     "text": [
      "Epoch 1/50\n",
      "980/980 [==============================] - 12s 10ms/step - loss: 0.3154 - accuracy: 0.9034 - val_loss: 0.1150 - val_accuracy: 0.9660\n",
      "Epoch 2/50\n",
      "980/980 [==============================] - 8s 8ms/step - loss: 0.1109 - accuracy: 0.9656 - val_loss: 0.0699 - val_accuracy: 0.9775\n",
      "Epoch 3/50\n",
      "980/980 [==============================] - 8s 8ms/step - loss: 0.0808 - accuracy: 0.9750 - val_loss: 0.0602 - val_accuracy: 0.9817\n",
      "Epoch 4/50\n",
      "980/980 [==============================] - 8s 9ms/step - loss: 0.0664 - accuracy: 0.9778 - val_loss: 0.0582 - val_accuracy: 0.9821\n",
      "Epoch 5/50\n",
      "980/980 [==============================] - 8s 8ms/step - loss: 0.0571 - accuracy: 0.9814 - val_loss: 0.0490 - val_accuracy: 0.9859\n",
      "Epoch 6/50\n",
      "980/980 [==============================] - 8s 8ms/step - loss: 0.0464 - accuracy: 0.9846 - val_loss: 0.0499 - val_accuracy: 0.9855\n",
      "Epoch 7/50\n",
      "980/980 [==============================] - 8s 9ms/step - loss: 0.0435 - accuracy: 0.9863 - val_loss: 0.0492 - val_accuracy: 0.9860\n",
      "Epoch 8/50\n",
      "980/980 [==============================] - 8s 8ms/step - loss: 0.0365 - accuracy: 0.9878 - val_loss: 0.0484 - val_accuracy: 0.9875\n",
      "Epoch 9/50\n",
      "980/980 [==============================] - 8s 9ms/step - loss: 0.0319 - accuracy: 0.9895 - val_loss: 0.0479 - val_accuracy: 0.9862\n",
      "Epoch 10/50\n",
      "980/980 [==============================] - 9s 9ms/step - loss: 0.0305 - accuracy: 0.9901 - val_loss: 0.0511 - val_accuracy: 0.9871\n",
      "Epoch 11/50\n",
      "980/980 [==============================] - 8s 8ms/step - loss: 0.0284 - accuracy: 0.9905 - val_loss: 0.0441 - val_accuracy: 0.9882\n",
      "Epoch 12/50\n",
      "980/980 [==============================] - 9s 10ms/step - loss: 0.0264 - accuracy: 0.9910 - val_loss: 0.0499 - val_accuracy: 0.9879\n",
      "Epoch 13/50\n",
      "980/980 [==============================] - 9s 10ms/step - loss: 0.0245 - accuracy: 0.9919 - val_loss: 0.0486 - val_accuracy: 0.9883\n",
      "Epoch 14/50\n",
      "980/980 [==============================] - 8s 8ms/step - loss: 0.0248 - accuracy: 0.9924 - val_loss: 0.0466 - val_accuracy: 0.9876\n",
      "Epoch 15/50\n",
      "980/980 [==============================] - 8s 8ms/step - loss: 0.0256 - accuracy: 0.9914 - val_loss: 0.0488 - val_accuracy: 0.9886\n",
      "Epoch 16/50\n",
      "980/980 [==============================] - 9s 9ms/step - loss: 0.0208 - accuracy: 0.9934 - val_loss: 0.0540 - val_accuracy: 0.9879\n",
      "Epoch 17/50\n",
      "980/980 [==============================] - 12s 12ms/step - loss: 0.0186 - accuracy: 0.9942 - val_loss: 0.0458 - val_accuracy: 0.9894\n",
      "Epoch 18/50\n",
      "980/980 [==============================] - 9s 9ms/step - loss: 0.0195 - accuracy: 0.9935 - val_loss: 0.0573 - val_accuracy: 0.9882\n",
      "Epoch 19/50\n",
      "980/980 [==============================] - 8s 9ms/step - loss: 0.0204 - accuracy: 0.9940 - val_loss: 0.0569 - val_accuracy: 0.9867\n",
      "Epoch 20/50\n",
      "980/980 [==============================] - 9s 9ms/step - loss: 0.0171 - accuracy: 0.9945 - val_loss: 0.0542 - val_accuracy: 0.9879\n",
      "Epoch 21/50\n",
      "980/980 [==============================] - 9s 9ms/step - loss: 0.0193 - accuracy: 0.9936 - val_loss: 0.0568 - val_accuracy: 0.9872\n",
      "Epoch 22/50\n",
      "980/980 [==============================] - 9s 9ms/step - loss: 0.0163 - accuracy: 0.9946 - val_loss: 0.0726 - val_accuracy: 0.9856\n",
      "Epoch 23/50\n",
      "980/980 [==============================] - 8s 8ms/step - loss: 0.0191 - accuracy: 0.9941 - val_loss: 0.0576 - val_accuracy: 0.9869\n",
      "Epoch 24/50\n",
      "980/980 [==============================] - 8s 8ms/step - loss: 0.0155 - accuracy: 0.9950 - val_loss: 0.0571 - val_accuracy: 0.9876\n",
      "Epoch 25/50\n",
      "980/980 [==============================] - 8s 8ms/step - loss: 0.0154 - accuracy: 0.9950 - val_loss: 0.0609 - val_accuracy: 0.9876\n",
      "Epoch 26/50\n",
      "980/980 [==============================] - 8s 9ms/step - loss: 0.0173 - accuracy: 0.9940 - val_loss: 0.0535 - val_accuracy: 0.9881\n",
      "Epoch 27/50\n",
      "980/980 [==============================] - 8s 8ms/step - loss: 0.0150 - accuracy: 0.9948 - val_loss: 0.0566 - val_accuracy: 0.9887\n",
      "Epoch 28/50\n",
      "980/980 [==============================] - 9s 9ms/step - loss: 0.0152 - accuracy: 0.9950 - val_loss: 0.0674 - val_accuracy: 0.9882\n",
      "Epoch 29/50\n",
      "980/980 [==============================] - 8s 8ms/step - loss: 0.0140 - accuracy: 0.9952 - val_loss: 0.0596 - val_accuracy: 0.9885\n",
      "Epoch 30/50\n",
      "980/980 [==============================] - 8s 9ms/step - loss: 0.0149 - accuracy: 0.9952 - val_loss: 0.0565 - val_accuracy: 0.9882\n",
      "Epoch 31/50\n",
      "980/980 [==============================] - 8s 8ms/step - loss: 0.0146 - accuracy: 0.9951 - val_loss: 0.0622 - val_accuracy: 0.9881\n",
      "Epoch 32/50\n",
      "980/980 [==============================] - 8s 8ms/step - loss: 0.0118 - accuracy: 0.9963 - val_loss: 0.0580 - val_accuracy: 0.9888\n",
      "Epoch 33/50\n",
      "980/980 [==============================] - 8s 8ms/step - loss: 0.0162 - accuracy: 0.9951 - val_loss: 0.0636 - val_accuracy: 0.9876\n",
      "Epoch 34/50\n",
      "980/980 [==============================] - 8s 8ms/step - loss: 0.0129 - accuracy: 0.9953 - val_loss: 0.0618 - val_accuracy: 0.9873\n",
      "Epoch 35/50\n",
      "980/980 [==============================] - 8s 8ms/step - loss: 0.0127 - accuracy: 0.9958 - val_loss: 0.0643 - val_accuracy: 0.9883\n",
      "Epoch 36/50\n",
      "980/980 [==============================] - 8s 8ms/step - loss: 0.0151 - accuracy: 0.9949 - val_loss: 0.0620 - val_accuracy: 0.9883\n",
      "Epoch 37/50\n",
      "980/980 [==============================] - 8s 8ms/step - loss: 0.0136 - accuracy: 0.9960 - val_loss: 0.0619 - val_accuracy: 0.9876\n",
      "Epoch 38/50\n",
      "980/980 [==============================] - 8s 9ms/step - loss: 0.0107 - accuracy: 0.9964 - val_loss: 0.0625 - val_accuracy: 0.9879\n",
      "Epoch 39/50\n",
      "980/980 [==============================] - 8s 8ms/step - loss: 0.0138 - accuracy: 0.9952 - val_loss: 0.0693 - val_accuracy: 0.9876\n",
      "Epoch 40/50\n",
      "980/980 [==============================] - 8s 8ms/step - loss: 0.0129 - accuracy: 0.9963 - val_loss: 0.0647 - val_accuracy: 0.9889\n",
      "Epoch 41/50\n",
      "980/980 [==============================] - 8s 8ms/step - loss: 0.0108 - accuracy: 0.9963 - val_loss: 0.0588 - val_accuracy: 0.9891\n",
      "Epoch 42/50\n",
      "980/980 [==============================] - 8s 9ms/step - loss: 0.0113 - accuracy: 0.9963 - val_loss: 0.0613 - val_accuracy: 0.9890\n",
      "Epoch 43/50\n",
      "980/980 [==============================] - 9s 9ms/step - loss: 0.0132 - accuracy: 0.9960 - val_loss: 0.0641 - val_accuracy: 0.9887\n",
      "Epoch 44/50\n",
      "980/980 [==============================] - 10s 10ms/step - loss: 0.0103 - accuracy: 0.9966 - val_loss: 0.0645 - val_accuracy: 0.9884\n",
      "Epoch 45/50\n",
      "980/980 [==============================] - 11s 11ms/step - loss: 0.0103 - accuracy: 0.9967 - val_loss: 0.0599 - val_accuracy: 0.9889\n",
      "Epoch 46/50\n",
      "980/980 [==============================] - 9s 9ms/step - loss: 0.0140 - accuracy: 0.9955 - val_loss: 0.0611 - val_accuracy: 0.9883\n",
      "Epoch 47/50\n",
      "980/980 [==============================] - 9s 9ms/step - loss: 0.0106 - accuracy: 0.9964 - val_loss: 0.0771 - val_accuracy: 0.9881\n",
      "Epoch 48/50\n",
      "980/980 [==============================] - 8s 8ms/step - loss: 0.0118 - accuracy: 0.9964 - val_loss: 0.0594 - val_accuracy: 0.9878\n",
      "Epoch 49/50\n",
      "980/980 [==============================] - 8s 8ms/step - loss: 0.0148 - accuracy: 0.9958 - val_loss: 0.0554 - val_accuracy: 0.9884\n",
      "Epoch 50/50\n",
      "980/980 [==============================] - 8s 9ms/step - loss: 0.0093 - accuracy: 0.9970 - val_loss: 0.0745 - val_accuracy: 0.9883\n"
     ]
    }
   ],
   "source": [
    "history = model.fit(x_train, y_train,batch_size=30, epochs=50, validation_split=0.3)"
   ]
  },
  {
   "cell_type": "code",
   "execution_count": 17,
   "metadata": {},
   "outputs": [
    {
     "name": "stdout",
     "output_type": "stream",
     "text": [
      "1/1 [==============================] - 0s 119ms/step\n"
     ]
    },
    {
     "data": {
      "text/plain": [
       "array([[5.4934544e-20, 2.1026333e-23, 2.5856676e-26, 2.3046348e-16,\n",
       "        2.6577396e-19, 1.0000000e+00, 2.1890700e-17, 2.9054065e-24,\n",
       "        2.1903814e-17, 7.3035258e-12]], dtype=float32)"
      ]
     },
     "execution_count": 17,
     "metadata": {},
     "output_type": "execute_result"
    }
   ],
   "source": [
    "model.predict(x_train[None,np.random.randint(0,4000)])"
   ]
  },
  {
   "cell_type": "code",
   "execution_count": 18,
   "metadata": {},
   "outputs": [
    {
     "name": "stdout",
     "output_type": "stream",
     "text": [
      "tf.Tensor(\n",
      "[[9.9562374e-14 2.2596724e-15 1.0683149e-14 3.2455749e-10 2.6373267e-13\n",
      "  1.8796948e-11 1.4430349e-12 1.3614216e-14 1.0000000e+00 1.4003024e-09]], shape=(1, 10), dtype=float32)\n",
      "1/1 [==============================] - 0s 26ms/step\n",
      "Prediction:  8\n",
      "Example number:  26353 \n",
      "Label:  8\n"
     ]
    },
    {
     "data": {
      "image/png": "[encoded data removed]",
      "text/plain": [
       "<Figure size 432x288 with 1 Axes>"
      ]
     },
     "metadata": {
      "needs_background": "light"
     },
     "output_type": "display_data"
    }
   ],
   "source": [
    "test_model(model,x_train,y_train,np.random.randint(0,x_train.shape[0]),show_probability=True)"
   ]
  },
  {
   "cell_type": "code",
   "execution_count": 43,
   "metadata": {},
   "outputs": [],
   "source": [
    "from datetime import datetime"
   ]
  },
  {
   "cell_type": "code",
   "execution_count": 44,
   "metadata": {},
   "outputs": [],
   "source": [
    "timestamp=datetime.today().strftime('%Y%m%d%H%M%S')"
   ]
  },
  {
   "cell_type": "code",
   "execution_count": 45,
   "metadata": {},
   "outputs": [
    {
     "name": "stdout",
     "output_type": "stream",
     "text": [
      "model saved as models/mnist_CNNv120221110131514.h5\n"
     ]
    }
   ],
   "source": [
    "# Save the trained model\n",
    "savemodel=True\n",
    "modelFileName = 'models/mnist_CNNv1_'+timestamp+'.h5'\n",
    "if savemodel:\n",
    "    model.save(modelFileName)\n",
    "    #del model  # deletes the existing model variable\n",
    "    print('model saved as', modelFileName)"
   ]
  },
  {
   "cell_type": "markdown",
   "metadata": {},
   "source": [
    "Next: obtain confusion matrix"
   ]
  },
  {
   "cell_type": "code",
   "execution_count": 20,
   "metadata": {},
   "outputs": [],
   "source": [
    "model = tf.keras.models.load_model(modelFileName)\n"
   ]
  },
  {
   "cell_type": "code",
   "execution_count": 22,
   "metadata": {},
   "outputs": [
    {
     "name": "stdout",
     "output_type": "stream",
     "text": [
      "1313/1313 [==============================] - 5s 3ms/step\n"
     ]
    },
    {
     "data": {
      "image/png": "[encoded data removed]",
      "text/plain": [
       "<Figure size 432x288 with 2 Axes>"
      ]
     },
     "metadata": {
      "needs_background": "light"
     },
     "output_type": "display_data"
    },
    {
     "name": "stdout",
     "output_type": "stream",
     "text": [
      "              precision    recall  f1-score   support\n",
      "\n",
      "           0      0.997     0.998     0.998      4132\n",
      "           1      0.997     0.999     0.998      4684\n",
      "           2      0.997     0.995     0.996      4177\n",
      "           3      1.000     0.992     0.996      4351\n",
      "           4      0.996     0.997     0.996      4072\n",
      "           5      0.993     0.999     0.996      3795\n",
      "           6      0.997     0.998     0.998      4137\n",
      "           7      0.995     0.997     0.996      4401\n",
      "           8      0.996     0.996     0.996      4063\n",
      "           9      0.995     0.994     0.995      4188\n",
      "\n",
      "    accuracy                          0.996     42000\n",
      "   macro avg      0.996     0.996     0.996     42000\n",
      "weighted avg      0.996     0.996     0.996     42000\n",
      "\n"
     ]
    }
   ],
   "source": [
    "# Tensorflow doesn't have a built-in confusion matrix metric, so we'll use SciKit-Learn\n",
    "#import numpy as np\n",
    "from sklearn.metrics import confusion_matrix\n",
    "from sklearn.metrics import classification_report\n",
    "#import matplotlib.pyplot as plt\n",
    "%matplotlib inline\n",
    "\n",
    "\n",
    "class_probabilities = model.predict(x_train)\n",
    "predictions = np.argmax(class_probabilities, axis=1)\n",
    "true_labels = np.argmax(y_train,axis=1)\n",
    "\n",
    "# Plot the confusion matrix\n",
    "cm = confusion_matrix(true_labels, predictions)\n",
    "plt.imshow(cm, interpolation=\"nearest\", cmap=plt.cm.Blues)\n",
    "plt.colorbar()\n",
    "tick_marks = np.arange(10)\n",
    "plt.xticks(tick_marks, tick_marks, rotation=0)\n",
    "plt.yticks(tick_marks, tick_marks)\n",
    "plt.xlabel(\"Predicted Number\")\n",
    "plt.ylabel(\"Actual Number\")\n",
    "plt.show()\n",
    "#print(cm)\n",
    "print(classification_report(true_labels,predictions,digits=3))"
   ]
  },
  {
   "cell_type": "code",
   "execution_count": 23,
   "metadata": {},
   "outputs": [],
   "source": [
    "kaggle_test=pd.read_csv('digit-recognizer/test.csv')\n",
    "kaggle_test.shape\n",
    "kaggle_test = np.array(kaggle_test).reshape(-1, 28, 28, 1)\n"
   ]
  },
  {
   "cell_type": "code",
   "execution_count": 24,
   "metadata": {},
   "outputs": [
    {
     "name": "stdout",
     "output_type": "stream",
     "text": [
      "875/875 [==============================] - 2s 2ms/step\n"
     ]
    }
   ],
   "source": [
    "kaggle_predictions=model.predict(kaggle_test)"
   ]
  },
  {
   "cell_type": "code",
   "execution_count": 25,
   "metadata": {},
   "outputs": [
    {
     "name": "stdout",
     "output_type": "stream",
     "text": [
      "(28000,)\n"
     ]
    }
   ],
   "source": [
    "print(np.argmax(kaggle_predictions,axis=1).shape)"
   ]
  },
  {
   "cell_type": "code",
   "execution_count": 26,
   "metadata": {},
   "outputs": [
    {
     "name": "stdout",
     "output_type": "stream",
     "text": [
      "tf.Tensor([[0. 0. 0. 0. 0. 1. 0. 0. 0. 0.]], shape=(1, 10), dtype=float32)\n",
      "1/1 [==============================] - 0s 86ms/step\n",
      "Prediction:  5\n",
      "Example number:  22657 \n",
      "Label:  5\n"
     ]
    },
    {
     "data": {
      "image/png": "[encoded data removed]",
      "text/plain": [
       "<Figure size 432x288 with 1 Axes>"
      ]
     },
     "metadata": {
      "needs_background": "light"
     },
     "output_type": "display_data"
    }
   ],
   "source": [
    "test_model(model,kaggle_test,kaggle_predictions,np.random.randint(0,28000),show_probability=True)"
   ]
  },
  {
   "cell_type": "code",
   "execution_count": 27,
   "metadata": {},
   "outputs": [
    {
     "data": {
      "text/html": [
       "<div>\n",
       "<style scoped>\n",
       "    .dataframe tbody tr th:only-of-type {\n",
       "        vertical-align: middle;\n",
       "    }\n",
       "\n",
       "    .dataframe tbody tr th {\n",
       "        vertical-align: top;\n",
       "    }\n",
       "\n",
       "    .dataframe thead th {\n",
       "        text-align: right;\n",
       "    }\n",
       "</style>\n",
       "<table border=\"1\" class=\"dataframe\">\n",
       "  <thead>\n",
       "    <tr style=\"text-align: right;\">\n",
       "      <th></th>\n",
       "      <th>ImageId</th>\n",
       "      <th>Label</th>\n",
       "    </tr>\n",
       "  </thead>\n",
       "  <tbody>\n",
       "    <tr>\n",
       "      <th>0</th>\n",
       "      <td>1</td>\n",
       "      <td>2</td>\n",
       "    </tr>\n",
       "    <tr>\n",
       "      <th>1</th>\n",
       "      <td>2</td>\n",
       "      <td>0</td>\n",
       "    </tr>\n",
       "    <tr>\n",
       "      <th>2</th>\n",
       "      <td>3</td>\n",
       "      <td>9</td>\n",
       "    </tr>\n",
       "    <tr>\n",
       "      <th>3</th>\n",
       "      <td>4</td>\n",
       "      <td>9</td>\n",
       "    </tr>\n",
       "    <tr>\n",
       "      <th>4</th>\n",
       "      <td>5</td>\n",
       "      <td>3</td>\n",
       "    </tr>\n",
       "    <tr>\n",
       "      <th>...</th>\n",
       "      <td>...</td>\n",
       "      <td>...</td>\n",
       "    </tr>\n",
       "    <tr>\n",
       "      <th>27995</th>\n",
       "      <td>27996</td>\n",
       "      <td>9</td>\n",
       "    </tr>\n",
       "    <tr>\n",
       "      <th>27996</th>\n",
       "      <td>27997</td>\n",
       "      <td>7</td>\n",
       "    </tr>\n",
       "    <tr>\n",
       "      <th>27997</th>\n",
       "      <td>27998</td>\n",
       "      <td>3</td>\n",
       "    </tr>\n",
       "    <tr>\n",
       "      <th>27998</th>\n",
       "      <td>27999</td>\n",
       "      <td>9</td>\n",
       "    </tr>\n",
       "    <tr>\n",
       "      <th>27999</th>\n",
       "      <td>28000</td>\n",
       "      <td>2</td>\n",
       "    </tr>\n",
       "  </tbody>\n",
       "</table>\n",
       "<p>28000 rows × 2 columns</p>\n",
       "</div>"
      ],
      "text/plain": [
       "       ImageId  Label\n",
       "0            1      2\n",
       "1            2      0\n",
       "2            3      9\n",
       "3            4      9\n",
       "4            5      3\n",
       "...        ...    ...\n",
       "27995    27996      9\n",
       "27996    27997      7\n",
       "27997    27998      3\n",
       "27998    27999      9\n",
       "27999    28000      2\n",
       "\n",
       "[28000 rows x 2 columns]"
      ]
     },
     "execution_count": 27,
     "metadata": {},
     "output_type": "execute_result"
    }
   ],
   "source": [
    "sample=pd.read_csv('digit-recognizer/sample_submission.csv')\n",
    "sample['Label']=np.argmax(kaggle_predictions,axis=1)\n",
    "sample"
   ]
  },
  {
   "cell_type": "code",
   "execution_count": 28,
   "metadata": {},
   "outputs": [],
   "source": [
    "sample.to_csv('kaggle_predictions_CNN.csv',index=None)"
   ]
  }
 ],
 "metadata": {
  "kernelspec": {
   "display_name": "Python 3.9.12 ('tfgpu')",
   "language": "python",
   "name": "python3"
  },
  "language_info": {
   "codemirror_mode": {
    "name": "ipython",
    "version": 3
   },
   "file_extension": ".py",
   "mimetype": "text/x-python",
   "name": "python",
   "nbconvert_exporter": "python",
   "pygments_lexer": "ipython3",
   "version": "3.9.12"
  },
  "orig_nbformat": 4,
  "vscode": {
   "interpreter": {
    "hash": "4ac2639bf6c51b051b1b83c4d99575383d6e01bb4712884ebd29a7c900e61e25"
   }
  }
 },
 "nbformat": 4,
 "nbformat_minor": 2
}
